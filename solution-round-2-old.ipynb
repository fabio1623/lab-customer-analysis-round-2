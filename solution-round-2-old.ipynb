{
 "cells": [
  {
   "cell_type": "markdown",
   "id": "34fc3761",
   "metadata": {},
   "source": [
    "# ROUND 2"
   ]
  },
  {
   "cell_type": "markdown",
   "id": "ecf0b72b",
   "metadata": {},
   "source": [
    "## Show the dataframe shape."
   ]
  },
  {
   "cell_type": "code",
   "execution_count": 108,
   "id": "5ee1dff6",
   "metadata": {},
   "outputs": [
    {
     "data": {
      "text/plain": [
       "(10910, 26)"
      ]
     },
     "execution_count": 108,
     "metadata": {},
     "output_type": "execute_result"
    }
   ],
   "source": [
    "import pandas as pd\n",
    "\n",
    "marketing_customer_data = pd.read_csv('files_for_lab/csv_files/marketing_customer_analysis.csv')\n",
    "marketing_customer_data.shape"
   ]
  },
  {
   "cell_type": "markdown",
   "id": "88f123bc",
   "metadata": {},
   "source": [
    "## Standardize header names."
   ]
  },
  {
   "cell_type": "code",
   "execution_count": 109,
   "id": "d9e71e92",
   "metadata": {},
   "outputs": [
    {
     "name": "stdout",
     "output_type": "stream",
     "text": [
      "['Unnamed: 0', 'Customer', 'State', 'Customer Lifetime Value', 'Response', 'Coverage', 'Education', 'Effective To Date', 'EmploymentStatus', 'Gender', 'Income', 'Location Code', 'Marital Status', 'Monthly Premium Auto', 'Months Since Last Claim', 'Months Since Policy Inception', 'Number of Open Complaints', 'Number of Policies', 'Policy Type', 'Policy', 'Renew Offer Type', 'Sales Channel', 'Total Claim Amount', 'Vehicle Class', 'Vehicle Size', 'Vehicle Type']\n",
      "['Unnamed: 0', 'Customer', 'State', 'Customer Lifetime Value', 'Response', 'Coverage', 'Education', 'Effective To Date', 'Employment Status', 'Gender', 'Income', 'Location Code', 'Marital Status', 'Monthly Premium Auto', 'Months Since Last Claim', 'Months Since Policy Inception', 'Number of Open Complaints', 'Number of Policies', 'Policy Type', 'Policy', 'Renew Offer Type', 'Sales Channel', 'Total Claim Amount', 'Vehicle Class', 'Vehicle Size', 'Vehicle Type']\n"
     ]
    }
   ],
   "source": [
    "print(list(marketing_customer_data.columns))\n",
    "columns_definition = { 'EmploymentStatus':'Employment Status' }\n",
    "marketing_customer_data = marketing_customer_data.rename(columns = columns_definition)\n",
    "print(list(marketing_customer_data.columns))"
   ]
  },
  {
   "cell_type": "markdown",
   "id": "00e0adad",
   "metadata": {},
   "source": [
    "## Which columns are numerical?"
   ]
  },
  {
   "cell_type": "code",
   "execution_count": 110,
   "id": "a219cfba",
   "metadata": {},
   "outputs": [
    {
     "data": {
      "text/plain": [
       "['Unnamed: 0',\n",
       " 'Customer Lifetime Value',\n",
       " 'Income',\n",
       " 'Monthly Premium Auto',\n",
       " 'Months Since Last Claim',\n",
       " 'Months Since Policy Inception',\n",
       " 'Number of Open Complaints',\n",
       " 'Number of Policies',\n",
       " 'Total Claim Amount']"
      ]
     },
     "execution_count": 110,
     "metadata": {},
     "output_type": "execute_result"
    }
   ],
   "source": [
    "numerical_columns = marketing_customer_data._get_numeric_data().columns\n",
    "list(numerical_columns)"
   ]
  },
  {
   "cell_type": "markdown",
   "id": "c3eb7ac9",
   "metadata": {},
   "source": [
    "## Which columns are categorical?"
   ]
  },
  {
   "cell_type": "code",
   "execution_count": 111,
   "id": "a6474ec2",
   "metadata": {},
   "outputs": [
    {
     "data": {
      "text/plain": [
       "['Coverage',\n",
       " 'Location Code',\n",
       " 'Policy',\n",
       " 'Gender',\n",
       " 'Vehicle Class',\n",
       " 'Customer',\n",
       " 'Response',\n",
       " 'Renew Offer Type',\n",
       " 'Employment Status',\n",
       " 'Vehicle Type',\n",
       " 'Sales Channel',\n",
       " 'Effective To Date',\n",
       " 'Vehicle Size',\n",
       " 'Marital Status',\n",
       " 'Education',\n",
       " 'Policy Type',\n",
       " 'State']"
      ]
     },
     "execution_count": 111,
     "metadata": {},
     "output_type": "execute_result"
    }
   ],
   "source": [
    "list(set(marketing_customer_data.columns) - set(numerical_columns))"
   ]
  },
  {
   "cell_type": "markdown",
   "id": "ab15d8ba",
   "metadata": {},
   "source": [
    "## Check and deal with NaN values."
   ]
  },
  {
   "cell_type": "code",
   "execution_count": 112,
   "id": "53ee382c",
   "metadata": {},
   "outputs": [
    {
     "data": {
      "text/plain": [
       "Unnamed: 0                          0\n",
       "Customer                            0\n",
       "State                             631\n",
       "Customer Lifetime Value             0\n",
       "Response                          631\n",
       "Coverage                            0\n",
       "Education                           0\n",
       "Effective To Date                   0\n",
       "Employment Status                   0\n",
       "Gender                              0\n",
       "Income                              0\n",
       "Location Code                       0\n",
       "Marital Status                      0\n",
       "Monthly Premium Auto                0\n",
       "Months Since Last Claim           633\n",
       "Months Since Policy Inception       0\n",
       "Number of Open Complaints         633\n",
       "Number of Policies                  0\n",
       "Policy Type                         0\n",
       "Policy                              0\n",
       "Renew Offer Type                    0\n",
       "Sales Channel                       0\n",
       "Total Claim Amount                  0\n",
       "Vehicle Class                     622\n",
       "Vehicle Size                      622\n",
       "Vehicle Type                     5482\n",
       "dtype: int64"
      ]
     },
     "execution_count": 112,
     "metadata": {},
     "output_type": "execute_result"
    }
   ],
   "source": [
    "marketing_customer_data.isna().sum()"
   ]
  },
  {
   "cell_type": "code",
   "execution_count": 113,
   "id": "f531f42b",
   "metadata": {},
   "outputs": [
    {
     "data": {
      "text/plain": [
       "Unnamed: 0                         int64\n",
       "Customer                          object\n",
       "State                             object\n",
       "Customer Lifetime Value          float64\n",
       "Response                          object\n",
       "Coverage                          object\n",
       "Education                         object\n",
       "Effective To Date                 object\n",
       "Employment Status                 object\n",
       "Gender                            object\n",
       "Income                             int64\n",
       "Location Code                     object\n",
       "Marital Status                    object\n",
       "Monthly Premium Auto               int64\n",
       "Months Since Last Claim          float64\n",
       "Months Since Policy Inception      int64\n",
       "Number of Open Complaints        float64\n",
       "Number of Policies                 int64\n",
       "Policy Type                       object\n",
       "Policy                            object\n",
       "Renew Offer Type                  object\n",
       "Sales Channel                     object\n",
       "Total Claim Amount               float64\n",
       "Vehicle Class                     object\n",
       "Vehicle Size                      object\n",
       "Vehicle Type                      object\n",
       "dtype: object"
      ]
     },
     "execution_count": 113,
     "metadata": {},
     "output_type": "execute_result"
    }
   ],
   "source": [
    "marketing_customer_data.dtypes"
   ]
  },
  {
   "cell_type": "code",
   "execution_count": 114,
   "id": "f2733597",
   "metadata": {},
   "outputs": [
    {
     "data": {
      "text/plain": [
       "Unnamed: 0                          0\n",
       "Customer                            0\n",
       "State                             631\n",
       "Customer Lifetime Value             0\n",
       "Response                          631\n",
       "Coverage                            0\n",
       "Education                           0\n",
       "Effective To Date                   0\n",
       "Employment Status                   0\n",
       "Gender                              0\n",
       "Income                              0\n",
       "Location Code                       0\n",
       "Marital Status                      0\n",
       "Monthly Premium Auto                0\n",
       "Months Since Last Claim             0\n",
       "Months Since Policy Inception       0\n",
       "Number of Open Complaints           0\n",
       "Number of Policies                  0\n",
       "Policy Type                         0\n",
       "Policy                              0\n",
       "Renew Offer Type                    0\n",
       "Sales Channel                       0\n",
       "Total Claim Amount                  0\n",
       "Vehicle Class                     622\n",
       "Vehicle Size                      622\n",
       "Vehicle Type                     5482\n",
       "dtype: int64"
      ]
     },
     "execution_count": 114,
     "metadata": {},
     "output_type": "execute_result"
    }
   ],
   "source": [
    "month_since_last_claim_median = marketing_customer_data['Months Since Last Claim'].mean()\n",
    "marketing_customer_data['Months Since Last Claim'] = marketing_customer_data['Months Since Last Claim'].fillna(month_since_last_claim_median)\n",
    "number_open_complaints_median = marketing_customer_data['Number of Open Complaints'].mean()\n",
    "marketing_customer_data['Number of Open Complaints'] = marketing_customer_data['Number of Open Complaints'].fillna(number_open_complaints_median)\n",
    "marketing_customer_data.isna().sum()"
   ]
  },
  {
   "cell_type": "code",
   "execution_count": 115,
   "id": "10a5713a",
   "metadata": {},
   "outputs": [],
   "source": [
    "description = marketing_customer_data.describe(include='all').T['50%']['Income']"
   ]
  },
  {
   "cell_type": "code",
   "execution_count": 116,
   "id": "37c1e487",
   "metadata": {},
   "outputs": [],
   "source": [
    "#marketing_customer_data.describe()['Number of Open Complaints']\n",
    "#state_more_occurrences = marketing_customer_data['State'].value_counts(dropna=False)[0]\n",
    "marketing_customer_data['State'] = marketing_customer_data['State'].fillna('California')"
   ]
  },
  {
   "cell_type": "code",
   "execution_count": 117,
   "id": "fba76a9a",
   "metadata": {},
   "outputs": [],
   "source": [
    "#response_more_occurences = marketing_customer_data['Response'].value_counts(dropna=False)[0]\n",
    "marketing_customer_data['Response'] = marketing_customer_data['Response'].fillna(\"No\")"
   ]
  },
  {
   "cell_type": "code",
   "execution_count": 118,
   "id": "2a3e4a8b",
   "metadata": {},
   "outputs": [],
   "source": [
    "#class_more_occurences = marketing_customer_data['Vehicle Class'].value_counts(dropna=False)[0]\n",
    "marketing_customer_data['Vehicle Class'] = marketing_customer_data['Vehicle Class'].fillna(\"Four-Door Car\")"
   ]
  },
  {
   "cell_type": "code",
   "execution_count": 119,
   "id": "de75af7c",
   "metadata": {},
   "outputs": [],
   "source": [
    "#size_more_occurrences = marketing_customer_data['Vehicle Size'].value_counts(dropna=False)[0]\n",
    "marketing_customer_data['Vehicle Size'] = marketing_customer_data['Vehicle Size'].fillna(\"Medsize\")"
   ]
  },
  {
   "cell_type": "code",
   "execution_count": 120,
   "id": "fc26150b",
   "metadata": {},
   "outputs": [],
   "source": [
    "#type_more_occurrences = marketing_customer_data['Vehicle Type'].value_counts(dropna=False)[0]\n",
    "marketing_customer_data['Vehicle Type'] = marketing_customer_data['Vehicle Type'].fillna(\"M\")"
   ]
  },
  {
   "cell_type": "code",
   "execution_count": 121,
   "id": "0215aeb6",
   "metadata": {},
   "outputs": [
    {
     "data": {
      "text/plain": [
       "Unnamed: 0                       0\n",
       "Customer                         0\n",
       "State                            0\n",
       "Customer Lifetime Value          0\n",
       "Response                         0\n",
       "Coverage                         0\n",
       "Education                        0\n",
       "Effective To Date                0\n",
       "Employment Status                0\n",
       "Gender                           0\n",
       "Income                           0\n",
       "Location Code                    0\n",
       "Marital Status                   0\n",
       "Monthly Premium Auto             0\n",
       "Months Since Last Claim          0\n",
       "Months Since Policy Inception    0\n",
       "Number of Open Complaints        0\n",
       "Number of Policies               0\n",
       "Policy Type                      0\n",
       "Policy                           0\n",
       "Renew Offer Type                 0\n",
       "Sales Channel                    0\n",
       "Total Claim Amount               0\n",
       "Vehicle Class                    0\n",
       "Vehicle Size                     0\n",
       "Vehicle Type                     0\n",
       "dtype: int64"
      ]
     },
     "execution_count": 121,
     "metadata": {},
     "output_type": "execute_result"
    }
   ],
   "source": [
    "marketing_customer_data.isna().sum()"
   ]
  },
  {
   "cell_type": "markdown",
   "id": "66de46e9",
   "metadata": {},
   "source": [
    "## Datetime format - Extract the months from the dataset and store in a separate column. Then filter the data to show only the information for the first quarter , ie. January, February and March. Hint: If data from March does not exist, consider only January and February."
   ]
  },
  {
   "cell_type": "code",
   "execution_count": 122,
   "id": "6414e191",
   "metadata": {},
   "outputs": [],
   "source": [
    "#file['date_time'] = pd.to_datetime(file['date_time'], errors='coerce')\n",
    "marketing_customer_data['Effective To Date'] = pd.to_datetime(marketing_customer_data['Effective To Date'], errors='coerce')\n",
    "marketing_customer_data['Month'] = pd.DatetimeIndex(marketing_customer_data['Effective To Date']).month"
   ]
  },
  {
   "cell_type": "code",
   "execution_count": 123,
   "id": "6d59be47",
   "metadata": {},
   "outputs": [
    {
     "data": {
      "text/html": [
       "<div>\n",
       "<style scoped>\n",
       "    .dataframe tbody tr th:only-of-type {\n",
       "        vertical-align: middle;\n",
       "    }\n",
       "\n",
       "    .dataframe tbody tr th {\n",
       "        vertical-align: top;\n",
       "    }\n",
       "\n",
       "    .dataframe thead th {\n",
       "        text-align: right;\n",
       "    }\n",
       "</style>\n",
       "<table border=\"1\" class=\"dataframe\">\n",
       "  <thead>\n",
       "    <tr style=\"text-align: right;\">\n",
       "      <th></th>\n",
       "      <th>Unnamed: 0</th>\n",
       "      <th>Customer</th>\n",
       "      <th>State</th>\n",
       "      <th>Customer Lifetime Value</th>\n",
       "      <th>Response</th>\n",
       "      <th>Coverage</th>\n",
       "      <th>Education</th>\n",
       "      <th>Effective To Date</th>\n",
       "      <th>Employment Status</th>\n",
       "      <th>Gender</th>\n",
       "      <th>...</th>\n",
       "      <th>Number of Policies</th>\n",
       "      <th>Policy Type</th>\n",
       "      <th>Policy</th>\n",
       "      <th>Renew Offer Type</th>\n",
       "      <th>Sales Channel</th>\n",
       "      <th>Total Claim Amount</th>\n",
       "      <th>Vehicle Class</th>\n",
       "      <th>Vehicle Size</th>\n",
       "      <th>Vehicle Type</th>\n",
       "      <th>Month</th>\n",
       "    </tr>\n",
       "  </thead>\n",
       "  <tbody>\n",
       "    <tr>\n",
       "      <th>0</th>\n",
       "      <td>0</td>\n",
       "      <td>DK49336</td>\n",
       "      <td>Arizona</td>\n",
       "      <td>4809.216960</td>\n",
       "      <td>No</td>\n",
       "      <td>Basic</td>\n",
       "      <td>College</td>\n",
       "      <td>2011-02-18</td>\n",
       "      <td>Employed</td>\n",
       "      <td>M</td>\n",
       "      <td>...</td>\n",
       "      <td>9</td>\n",
       "      <td>Corporate Auto</td>\n",
       "      <td>Corporate L3</td>\n",
       "      <td>Offer3</td>\n",
       "      <td>Agent</td>\n",
       "      <td>292.800000</td>\n",
       "      <td>Four-Door Car</td>\n",
       "      <td>Medsize</td>\n",
       "      <td>M</td>\n",
       "      <td>2</td>\n",
       "    </tr>\n",
       "    <tr>\n",
       "      <th>1</th>\n",
       "      <td>1</td>\n",
       "      <td>KX64629</td>\n",
       "      <td>California</td>\n",
       "      <td>2228.525238</td>\n",
       "      <td>No</td>\n",
       "      <td>Basic</td>\n",
       "      <td>College</td>\n",
       "      <td>2011-01-18</td>\n",
       "      <td>Unemployed</td>\n",
       "      <td>F</td>\n",
       "      <td>...</td>\n",
       "      <td>1</td>\n",
       "      <td>Personal Auto</td>\n",
       "      <td>Personal L3</td>\n",
       "      <td>Offer4</td>\n",
       "      <td>Call Center</td>\n",
       "      <td>744.924331</td>\n",
       "      <td>Four-Door Car</td>\n",
       "      <td>Medsize</td>\n",
       "      <td>M</td>\n",
       "      <td>1</td>\n",
       "    </tr>\n",
       "    <tr>\n",
       "      <th>2</th>\n",
       "      <td>2</td>\n",
       "      <td>LZ68649</td>\n",
       "      <td>Washington</td>\n",
       "      <td>14947.917300</td>\n",
       "      <td>No</td>\n",
       "      <td>Basic</td>\n",
       "      <td>Bachelor</td>\n",
       "      <td>2011-02-10</td>\n",
       "      <td>Employed</td>\n",
       "      <td>M</td>\n",
       "      <td>...</td>\n",
       "      <td>2</td>\n",
       "      <td>Personal Auto</td>\n",
       "      <td>Personal L3</td>\n",
       "      <td>Offer3</td>\n",
       "      <td>Call Center</td>\n",
       "      <td>480.000000</td>\n",
       "      <td>SUV</td>\n",
       "      <td>Medsize</td>\n",
       "      <td>A</td>\n",
       "      <td>2</td>\n",
       "    </tr>\n",
       "    <tr>\n",
       "      <th>3</th>\n",
       "      <td>3</td>\n",
       "      <td>XL78013</td>\n",
       "      <td>Oregon</td>\n",
       "      <td>22332.439460</td>\n",
       "      <td>Yes</td>\n",
       "      <td>Extended</td>\n",
       "      <td>College</td>\n",
       "      <td>2011-01-11</td>\n",
       "      <td>Employed</td>\n",
       "      <td>M</td>\n",
       "      <td>...</td>\n",
       "      <td>2</td>\n",
       "      <td>Corporate Auto</td>\n",
       "      <td>Corporate L3</td>\n",
       "      <td>Offer2</td>\n",
       "      <td>Branch</td>\n",
       "      <td>484.013411</td>\n",
       "      <td>Four-Door Car</td>\n",
       "      <td>Medsize</td>\n",
       "      <td>A</td>\n",
       "      <td>1</td>\n",
       "    </tr>\n",
       "    <tr>\n",
       "      <th>4</th>\n",
       "      <td>4</td>\n",
       "      <td>QA50777</td>\n",
       "      <td>Oregon</td>\n",
       "      <td>9025.067525</td>\n",
       "      <td>No</td>\n",
       "      <td>Premium</td>\n",
       "      <td>Bachelor</td>\n",
       "      <td>2011-01-17</td>\n",
       "      <td>Medical Leave</td>\n",
       "      <td>F</td>\n",
       "      <td>...</td>\n",
       "      <td>7</td>\n",
       "      <td>Personal Auto</td>\n",
       "      <td>Personal L2</td>\n",
       "      <td>Offer1</td>\n",
       "      <td>Branch</td>\n",
       "      <td>707.925645</td>\n",
       "      <td>Four-Door Car</td>\n",
       "      <td>Medsize</td>\n",
       "      <td>M</td>\n",
       "      <td>1</td>\n",
       "    </tr>\n",
       "    <tr>\n",
       "      <th>...</th>\n",
       "      <td>...</td>\n",
       "      <td>...</td>\n",
       "      <td>...</td>\n",
       "      <td>...</td>\n",
       "      <td>...</td>\n",
       "      <td>...</td>\n",
       "      <td>...</td>\n",
       "      <td>...</td>\n",
       "      <td>...</td>\n",
       "      <td>...</td>\n",
       "      <td>...</td>\n",
       "      <td>...</td>\n",
       "      <td>...</td>\n",
       "      <td>...</td>\n",
       "      <td>...</td>\n",
       "      <td>...</td>\n",
       "      <td>...</td>\n",
       "      <td>...</td>\n",
       "      <td>...</td>\n",
       "      <td>...</td>\n",
       "      <td>...</td>\n",
       "    </tr>\n",
       "    <tr>\n",
       "      <th>10905</th>\n",
       "      <td>10905</td>\n",
       "      <td>FE99816</td>\n",
       "      <td>Nevada</td>\n",
       "      <td>15563.369440</td>\n",
       "      <td>No</td>\n",
       "      <td>Premium</td>\n",
       "      <td>Bachelor</td>\n",
       "      <td>2011-01-19</td>\n",
       "      <td>Unemployed</td>\n",
       "      <td>F</td>\n",
       "      <td>...</td>\n",
       "      <td>7</td>\n",
       "      <td>Personal Auto</td>\n",
       "      <td>Personal L1</td>\n",
       "      <td>Offer3</td>\n",
       "      <td>Web</td>\n",
       "      <td>1214.400000</td>\n",
       "      <td>Luxury Car</td>\n",
       "      <td>Medsize</td>\n",
       "      <td>A</td>\n",
       "      <td>1</td>\n",
       "    </tr>\n",
       "    <tr>\n",
       "      <th>10906</th>\n",
       "      <td>10906</td>\n",
       "      <td>KX53892</td>\n",
       "      <td>Oregon</td>\n",
       "      <td>5259.444853</td>\n",
       "      <td>No</td>\n",
       "      <td>Basic</td>\n",
       "      <td>College</td>\n",
       "      <td>2011-01-06</td>\n",
       "      <td>Employed</td>\n",
       "      <td>F</td>\n",
       "      <td>...</td>\n",
       "      <td>6</td>\n",
       "      <td>Personal Auto</td>\n",
       "      <td>Personal L3</td>\n",
       "      <td>Offer2</td>\n",
       "      <td>Branch</td>\n",
       "      <td>273.018929</td>\n",
       "      <td>Four-Door Car</td>\n",
       "      <td>Medsize</td>\n",
       "      <td>A</td>\n",
       "      <td>1</td>\n",
       "    </tr>\n",
       "    <tr>\n",
       "      <th>10907</th>\n",
       "      <td>10907</td>\n",
       "      <td>TL39050</td>\n",
       "      <td>Arizona</td>\n",
       "      <td>23893.304100</td>\n",
       "      <td>No</td>\n",
       "      <td>Extended</td>\n",
       "      <td>Bachelor</td>\n",
       "      <td>2011-02-06</td>\n",
       "      <td>Employed</td>\n",
       "      <td>F</td>\n",
       "      <td>...</td>\n",
       "      <td>2</td>\n",
       "      <td>Corporate Auto</td>\n",
       "      <td>Corporate L3</td>\n",
       "      <td>Offer1</td>\n",
       "      <td>Web</td>\n",
       "      <td>381.306996</td>\n",
       "      <td>Luxury SUV</td>\n",
       "      <td>Medsize</td>\n",
       "      <td>M</td>\n",
       "      <td>2</td>\n",
       "    </tr>\n",
       "    <tr>\n",
       "      <th>10908</th>\n",
       "      <td>10908</td>\n",
       "      <td>WA60547</td>\n",
       "      <td>California</td>\n",
       "      <td>11971.977650</td>\n",
       "      <td>No</td>\n",
       "      <td>Premium</td>\n",
       "      <td>College</td>\n",
       "      <td>2011-02-13</td>\n",
       "      <td>Employed</td>\n",
       "      <td>F</td>\n",
       "      <td>...</td>\n",
       "      <td>6</td>\n",
       "      <td>Personal Auto</td>\n",
       "      <td>Personal L1</td>\n",
       "      <td>Offer1</td>\n",
       "      <td>Branch</td>\n",
       "      <td>618.288849</td>\n",
       "      <td>SUV</td>\n",
       "      <td>Medsize</td>\n",
       "      <td>A</td>\n",
       "      <td>2</td>\n",
       "    </tr>\n",
       "    <tr>\n",
       "      <th>10909</th>\n",
       "      <td>10909</td>\n",
       "      <td>IV32877</td>\n",
       "      <td>California</td>\n",
       "      <td>6857.519928</td>\n",
       "      <td>No</td>\n",
       "      <td>Basic</td>\n",
       "      <td>Bachelor</td>\n",
       "      <td>2011-01-08</td>\n",
       "      <td>Unemployed</td>\n",
       "      <td>M</td>\n",
       "      <td>...</td>\n",
       "      <td>3</td>\n",
       "      <td>Personal Auto</td>\n",
       "      <td>Personal L1</td>\n",
       "      <td>Offer4</td>\n",
       "      <td>Web</td>\n",
       "      <td>1021.719397</td>\n",
       "      <td>SUV</td>\n",
       "      <td>Medsize</td>\n",
       "      <td>M</td>\n",
       "      <td>1</td>\n",
       "    </tr>\n",
       "  </tbody>\n",
       "</table>\n",
       "<p>10910 rows × 27 columns</p>\n",
       "</div>"
      ],
      "text/plain": [
       "       Unnamed: 0 Customer       State  Customer Lifetime Value Response  \\\n",
       "0               0  DK49336     Arizona              4809.216960       No   \n",
       "1               1  KX64629  California              2228.525238       No   \n",
       "2               2  LZ68649  Washington             14947.917300       No   \n",
       "3               3  XL78013      Oregon             22332.439460      Yes   \n",
       "4               4  QA50777      Oregon              9025.067525       No   \n",
       "...           ...      ...         ...                      ...      ...   \n",
       "10905       10905  FE99816      Nevada             15563.369440       No   \n",
       "10906       10906  KX53892      Oregon              5259.444853       No   \n",
       "10907       10907  TL39050     Arizona             23893.304100       No   \n",
       "10908       10908  WA60547  California             11971.977650       No   \n",
       "10909       10909  IV32877  California              6857.519928       No   \n",
       "\n",
       "       Coverage Education Effective To Date Employment Status Gender  ...  \\\n",
       "0         Basic   College        2011-02-18          Employed      M  ...   \n",
       "1         Basic   College        2011-01-18        Unemployed      F  ...   \n",
       "2         Basic  Bachelor        2011-02-10          Employed      M  ...   \n",
       "3      Extended   College        2011-01-11          Employed      M  ...   \n",
       "4       Premium  Bachelor        2011-01-17     Medical Leave      F  ...   \n",
       "...         ...       ...               ...               ...    ...  ...   \n",
       "10905   Premium  Bachelor        2011-01-19        Unemployed      F  ...   \n",
       "10906     Basic   College        2011-01-06          Employed      F  ...   \n",
       "10907  Extended  Bachelor        2011-02-06          Employed      F  ...   \n",
       "10908   Premium   College        2011-02-13          Employed      F  ...   \n",
       "10909     Basic  Bachelor        2011-01-08        Unemployed      M  ...   \n",
       "\n",
       "       Number of Policies     Policy Type        Policy  Renew Offer Type  \\\n",
       "0                       9  Corporate Auto  Corporate L3            Offer3   \n",
       "1                       1   Personal Auto   Personal L3            Offer4   \n",
       "2                       2   Personal Auto   Personal L3            Offer3   \n",
       "3                       2  Corporate Auto  Corporate L3            Offer2   \n",
       "4                       7   Personal Auto   Personal L2            Offer1   \n",
       "...                   ...             ...           ...               ...   \n",
       "10905                   7   Personal Auto   Personal L1            Offer3   \n",
       "10906                   6   Personal Auto   Personal L3            Offer2   \n",
       "10907                   2  Corporate Auto  Corporate L3            Offer1   \n",
       "10908                   6   Personal Auto   Personal L1            Offer1   \n",
       "10909                   3   Personal Auto   Personal L1            Offer4   \n",
       "\n",
       "       Sales Channel  Total Claim Amount  Vehicle Class  Vehicle Size  \\\n",
       "0              Agent          292.800000  Four-Door Car       Medsize   \n",
       "1        Call Center          744.924331  Four-Door Car       Medsize   \n",
       "2        Call Center          480.000000            SUV       Medsize   \n",
       "3             Branch          484.013411  Four-Door Car       Medsize   \n",
       "4             Branch          707.925645  Four-Door Car       Medsize   \n",
       "...              ...                 ...            ...           ...   \n",
       "10905            Web         1214.400000     Luxury Car       Medsize   \n",
       "10906         Branch          273.018929  Four-Door Car       Medsize   \n",
       "10907            Web          381.306996     Luxury SUV       Medsize   \n",
       "10908         Branch          618.288849            SUV       Medsize   \n",
       "10909            Web         1021.719397            SUV       Medsize   \n",
       "\n",
       "      Vehicle Type Month  \n",
       "0                M     2  \n",
       "1                M     1  \n",
       "2                A     2  \n",
       "3                A     1  \n",
       "4                M     1  \n",
       "...            ...   ...  \n",
       "10905            A     1  \n",
       "10906            A     1  \n",
       "10907            M     2  \n",
       "10908            A     2  \n",
       "10909            M     1  \n",
       "\n",
       "[10910 rows x 27 columns]"
      ]
     },
     "execution_count": 123,
     "metadata": {},
     "output_type": "execute_result"
    }
   ],
   "source": [
    "marketing_customer_data[marketing_customer_data['Month'].isin([1, 2, 3])]"
   ]
  },
  {
   "cell_type": "markdown",
   "id": "1c264164",
   "metadata": {},
   "source": [
    "## BONUS: Put all the previously mentioned data transformations into a function."
   ]
  },
  {
   "cell_type": "code",
   "execution_count": 124,
   "id": "8cc8769f",
   "metadata": {},
   "outputs": [
    {
     "data": {
      "text/plain": [
       "(10910, 26)"
      ]
     },
     "execution_count": 124,
     "metadata": {},
     "output_type": "execute_result"
    }
   ],
   "source": [
    "marketing_customer_data = pd.read_csv('files_for_lab/csv_files/marketing_customer_analysis.csv')\n",
    "\n",
    "def standardize_header():\n",
    "    marketing_customer_data.drop('Unnamed: 0', inplace=True, axis=1)\n",
    "    marketing_customer_data.columns = marketing_customer_data.columns.str.lower().str.replace(' ', '_')\n",
    "    \n",
    "def add_month_column():\n",
    "    marketing_customer_data['effective_to_date'] = pd.to_datetime(marketing_customer_data['effective_to_date'], errors='coerce')\n",
    "    marketing_customer_data['month'] = pd.DatetimeIndex(marketing_customer_data['effective_to_date']).month\n",
    "\n",
    "def fill_nan_with_mean(columns):\n",
    "    for col in columns:\n",
    "        mean = marketing_customer_data[col].mean()\n",
    "        marketing_customer_data[col] = marketing_customer_data[col].fillna(mean)\n",
    "\n",
    "def fill_nan_with_mode(columns):\n",
    "    for col in columns:\n",
    "        mode = marketing_customer_data[col].mode()[0]\n",
    "        marketing_customer_data[col] = marketing_customer_data[col].fillna(mode)\n",
    "\n",
    "def transform_data():\n",
    "    standardize_header()\n",
    "    fill_nan_with_mean(['months_since_last_claim', 'number_of_open_complaints'])\n",
    "    fill_nan_with_mode(['state', 'response', 'vehicle_class', 'vehicle_size', 'vehicle_type'])\n",
    "    add_month_column()\n",
    "    return marketing_customer_data[marketing_customer_data['month'].isin([1, 2, 3])]\n",
    "    \n",
    "marketing_customer_data = transform_data()\n",
    "marketing_customer_data.shape"
   ]
  },
  {
   "cell_type": "markdown",
   "id": "aabb0d28",
   "metadata": {},
   "source": [
    "# ROUND 3"
   ]
  },
  {
   "cell_type": "markdown",
   "id": "98070255",
   "metadata": {},
   "source": [
    "## Show DataFrame info."
   ]
  },
  {
   "cell_type": "code",
   "execution_count": 125,
   "id": "c5d70ef7",
   "metadata": {
    "scrolled": false
   },
   "outputs": [
    {
     "name": "stdout",
     "output_type": "stream",
     "text": [
      "<class 'pandas.core.frame.DataFrame'>\n",
      "Int64Index: 10910 entries, 0 to 10909\n",
      "Data columns (total 26 columns):\n",
      " #   Column                         Non-Null Count  Dtype         \n",
      "---  ------                         --------------  -----         \n",
      " 0   customer                       10910 non-null  object        \n",
      " 1   state                          10910 non-null  object        \n",
      " 2   customer_lifetime_value        10910 non-null  float64       \n",
      " 3   response                       10910 non-null  object        \n",
      " 4   coverage                       10910 non-null  object        \n",
      " 5   education                      10910 non-null  object        \n",
      " 6   effective_to_date              10910 non-null  datetime64[ns]\n",
      " 7   employmentstatus               10910 non-null  object        \n",
      " 8   gender                         10910 non-null  object        \n",
      " 9   income                         10910 non-null  int64         \n",
      " 10  location_code                  10910 non-null  object        \n",
      " 11  marital_status                 10910 non-null  object        \n",
      " 12  monthly_premium_auto           10910 non-null  int64         \n",
      " 13  months_since_last_claim        10910 non-null  float64       \n",
      " 14  months_since_policy_inception  10910 non-null  int64         \n",
      " 15  number_of_open_complaints      10910 non-null  float64       \n",
      " 16  number_of_policies             10910 non-null  int64         \n",
      " 17  policy_type                    10910 non-null  object        \n",
      " 18  policy                         10910 non-null  object        \n",
      " 19  renew_offer_type               10910 non-null  object        \n",
      " 20  sales_channel                  10910 non-null  object        \n",
      " 21  total_claim_amount             10910 non-null  float64       \n",
      " 22  vehicle_class                  10910 non-null  object        \n",
      " 23  vehicle_size                   10910 non-null  object        \n",
      " 24  vehicle_type                   10910 non-null  object        \n",
      " 25  month                          10910 non-null  int64         \n",
      "dtypes: datetime64[ns](1), float64(4), int64(5), object(16)\n",
      "memory usage: 2.2+ MB\n"
     ]
    }
   ],
   "source": [
    "marketing_customer_data.info()"
   ]
  },
  {
   "cell_type": "markdown",
   "id": "b944dcd2",
   "metadata": {},
   "source": [
    "## Describe DataFrame."
   ]
  },
  {
   "cell_type": "code",
   "execution_count": 126,
   "id": "f12559ec",
   "metadata": {},
   "outputs": [
    {
     "data": {
      "text/html": [
       "<div>\n",
       "<style scoped>\n",
       "    .dataframe tbody tr th:only-of-type {\n",
       "        vertical-align: middle;\n",
       "    }\n",
       "\n",
       "    .dataframe tbody tr th {\n",
       "        vertical-align: top;\n",
       "    }\n",
       "\n",
       "    .dataframe thead th {\n",
       "        text-align: right;\n",
       "    }\n",
       "</style>\n",
       "<table border=\"1\" class=\"dataframe\">\n",
       "  <thead>\n",
       "    <tr style=\"text-align: right;\">\n",
       "      <th></th>\n",
       "      <th>count</th>\n",
       "      <th>mean</th>\n",
       "      <th>std</th>\n",
       "      <th>min</th>\n",
       "      <th>25%</th>\n",
       "      <th>50%</th>\n",
       "      <th>75%</th>\n",
       "      <th>max</th>\n",
       "    </tr>\n",
       "  </thead>\n",
       "  <tbody>\n",
       "    <tr>\n",
       "      <th>customer_lifetime_value</th>\n",
       "      <td>10910.0</td>\n",
       "      <td>8018.241094</td>\n",
       "      <td>6885.081434</td>\n",
       "      <td>1898.007675</td>\n",
       "      <td>4014.453113</td>\n",
       "      <td>5771.147235</td>\n",
       "      <td>8992.779137</td>\n",
       "      <td>83325.381190</td>\n",
       "    </tr>\n",
       "    <tr>\n",
       "      <th>income</th>\n",
       "      <td>10910.0</td>\n",
       "      <td>37536.284785</td>\n",
       "      <td>30359.195670</td>\n",
       "      <td>0.000000</td>\n",
       "      <td>0.000000</td>\n",
       "      <td>33813.500000</td>\n",
       "      <td>62250.750000</td>\n",
       "      <td>99981.000000</td>\n",
       "    </tr>\n",
       "    <tr>\n",
       "      <th>monthly_premium_auto</th>\n",
       "      <td>10910.0</td>\n",
       "      <td>93.196059</td>\n",
       "      <td>34.442532</td>\n",
       "      <td>61.000000</td>\n",
       "      <td>68.000000</td>\n",
       "      <td>83.000000</td>\n",
       "      <td>109.000000</td>\n",
       "      <td>298.000000</td>\n",
       "    </tr>\n",
       "    <tr>\n",
       "      <th>months_since_last_claim</th>\n",
       "      <td>10910.0</td>\n",
       "      <td>15.149071</td>\n",
       "      <td>9.783520</td>\n",
       "      <td>0.000000</td>\n",
       "      <td>7.000000</td>\n",
       "      <td>15.000000</td>\n",
       "      <td>23.000000</td>\n",
       "      <td>35.000000</td>\n",
       "    </tr>\n",
       "    <tr>\n",
       "      <th>months_since_policy_inception</th>\n",
       "      <td>10910.0</td>\n",
       "      <td>48.091934</td>\n",
       "      <td>27.940675</td>\n",
       "      <td>0.000000</td>\n",
       "      <td>24.000000</td>\n",
       "      <td>48.000000</td>\n",
       "      <td>71.000000</td>\n",
       "      <td>99.000000</td>\n",
       "    </tr>\n",
       "    <tr>\n",
       "      <th>number_of_open_complaints</th>\n",
       "      <td>10910.0</td>\n",
       "      <td>0.384256</td>\n",
       "      <td>0.885589</td>\n",
       "      <td>0.000000</td>\n",
       "      <td>0.000000</td>\n",
       "      <td>0.000000</td>\n",
       "      <td>0.384256</td>\n",
       "      <td>5.000000</td>\n",
       "    </tr>\n",
       "    <tr>\n",
       "      <th>number_of_policies</th>\n",
       "      <td>10910.0</td>\n",
       "      <td>2.979193</td>\n",
       "      <td>2.399359</td>\n",
       "      <td>1.000000</td>\n",
       "      <td>1.000000</td>\n",
       "      <td>2.000000</td>\n",
       "      <td>4.000000</td>\n",
       "      <td>9.000000</td>\n",
       "    </tr>\n",
       "    <tr>\n",
       "      <th>total_claim_amount</th>\n",
       "      <td>10910.0</td>\n",
       "      <td>434.888330</td>\n",
       "      <td>292.180556</td>\n",
       "      <td>0.099007</td>\n",
       "      <td>271.082527</td>\n",
       "      <td>382.564630</td>\n",
       "      <td>547.200000</td>\n",
       "      <td>2893.239678</td>\n",
       "    </tr>\n",
       "    <tr>\n",
       "      <th>month</th>\n",
       "      <td>10910.0</td>\n",
       "      <td>1.466728</td>\n",
       "      <td>0.498915</td>\n",
       "      <td>1.000000</td>\n",
       "      <td>1.000000</td>\n",
       "      <td>1.000000</td>\n",
       "      <td>2.000000</td>\n",
       "      <td>2.000000</td>\n",
       "    </tr>\n",
       "  </tbody>\n",
       "</table>\n",
       "</div>"
      ],
      "text/plain": [
       "                                 count          mean           std  \\\n",
       "customer_lifetime_value        10910.0   8018.241094   6885.081434   \n",
       "income                         10910.0  37536.284785  30359.195670   \n",
       "monthly_premium_auto           10910.0     93.196059     34.442532   \n",
       "months_since_last_claim        10910.0     15.149071      9.783520   \n",
       "months_since_policy_inception  10910.0     48.091934     27.940675   \n",
       "number_of_open_complaints      10910.0      0.384256      0.885589   \n",
       "number_of_policies             10910.0      2.979193      2.399359   \n",
       "total_claim_amount             10910.0    434.888330    292.180556   \n",
       "month                          10910.0      1.466728      0.498915   \n",
       "\n",
       "                                       min          25%           50%  \\\n",
       "customer_lifetime_value        1898.007675  4014.453113   5771.147235   \n",
       "income                            0.000000     0.000000  33813.500000   \n",
       "monthly_premium_auto             61.000000    68.000000     83.000000   \n",
       "months_since_last_claim           0.000000     7.000000     15.000000   \n",
       "months_since_policy_inception     0.000000    24.000000     48.000000   \n",
       "number_of_open_complaints         0.000000     0.000000      0.000000   \n",
       "number_of_policies                1.000000     1.000000      2.000000   \n",
       "total_claim_amount                0.099007   271.082527    382.564630   \n",
       "month                             1.000000     1.000000      1.000000   \n",
       "\n",
       "                                        75%           max  \n",
       "customer_lifetime_value         8992.779137  83325.381190  \n",
       "income                         62250.750000  99981.000000  \n",
       "monthly_premium_auto             109.000000    298.000000  \n",
       "months_since_last_claim           23.000000     35.000000  \n",
       "months_since_policy_inception     71.000000     99.000000  \n",
       "number_of_open_complaints          0.384256      5.000000  \n",
       "number_of_policies                 4.000000      9.000000  \n",
       "total_claim_amount               547.200000   2893.239678  \n",
       "month                              2.000000      2.000000  "
      ]
     },
     "execution_count": 126,
     "metadata": {},
     "output_type": "execute_result"
    }
   ],
   "source": [
    "marketing_customer_data.describe().T"
   ]
  },
  {
   "cell_type": "markdown",
   "id": "dfe39a37",
   "metadata": {},
   "source": [
    "## Show a plot of the total number of responses."
   ]
  },
  {
   "cell_type": "code",
   "execution_count": 127,
   "id": "a542e257",
   "metadata": {
    "scrolled": false
   },
   "outputs": [
    {
     "data": {
      "text/plain": [
       "<AxesSubplot:>"
      ]
     },
     "execution_count": 127,
     "metadata": {},
     "output_type": "execute_result"
    },
    {
     "data": {
      "image/png": "[encoded data removed]",
      "text/plain": [
       "<Figure size 640x480 with 1 Axes>"
      ]
     },
     "metadata": {},
     "output_type": "display_data"
    }
   ],
   "source": [
    "marketing_customer_data['response'].value_counts()[:].plot(kind='bar')"
   ]
  },
  {
   "cell_type": "markdown",
   "id": "9612579d",
   "metadata": {},
   "source": [
    "## Show a plot of the response rate by the sales channel."
   ]
  },
  {
   "cell_type": "code",
   "execution_count": 129,
   "id": "b7853e3c",
   "metadata": {},
   "outputs": [
    {
     "data": {
      "text/plain": [
       "No     9444\n",
       "Yes    1466\n",
       "Name: response, dtype: int64"
      ]
     },
     "execution_count": 129,
     "metadata": {},
     "output_type": "execute_result"
    }
   ],
   "source": [
    "marketing_customer_data['response'].value_counts()"
   ]
  },
  {
   "cell_type": "code",
   "execution_count": 130,
   "id": "a835a8f5",
   "metadata": {},
   "outputs": [
    {
     "data": {
      "text/plain": [
       "Agent          4121\n",
       "Branch         3022\n",
       "Call Center    2141\n",
       "Web            1626\n",
       "Name: sales_channel, dtype: int64"
      ]
     },
     "execution_count": 130,
     "metadata": {},
     "output_type": "execute_result"
    }
   ],
   "source": [
    "marketing_customer_data['sales_channel'].value_counts()"
   ]
  },
  {
   "cell_type": "code",
   "execution_count": 131,
   "id": "43da8cc8",
   "metadata": {},
   "outputs": [
    {
     "data": {
      "text/plain": [
       "['No', 'Yes']"
      ]
     },
     "execution_count": 131,
     "metadata": {},
     "output_type": "execute_result"
    }
   ],
   "source": [
    "list(marketing_customer_data['response'].unique())"
   ]
  },
  {
   "cell_type": "code",
   "execution_count": 132,
   "id": "902af01c",
   "metadata": {},
   "outputs": [
    {
     "data": {
      "text/plain": [
       "['Agent', 'Call Center', 'Branch', 'Web']"
      ]
     },
     "execution_count": 132,
     "metadata": {},
     "output_type": "execute_result"
    }
   ],
   "source": [
    "sales_channels = list(marketing_customer_data['sales_channel'].unique())\n",
    "sales_channels"
   ]
  },
  {
   "cell_type": "code",
   "execution_count": 133,
   "id": "f736eb4e",
   "metadata": {
    "scrolled": true
   },
   "outputs": [
    {
     "data": {
      "text/html": [
       "<div>\n",
       "<style scoped>\n",
       "    .dataframe tbody tr th:only-of-type {\n",
       "        vertical-align: middle;\n",
       "    }\n",
       "\n",
       "    .dataframe tbody tr th {\n",
       "        vertical-align: top;\n",
       "    }\n",
       "\n",
       "    .dataframe thead th {\n",
       "        text-align: right;\n",
       "    }\n",
       "</style>\n",
       "<table border=\"1\" class=\"dataframe\">\n",
       "  <thead>\n",
       "    <tr style=\"text-align: right;\">\n",
       "      <th></th>\n",
       "      <th>customer</th>\n",
       "      <th>state</th>\n",
       "      <th>customer_lifetime_value</th>\n",
       "      <th>response</th>\n",
       "      <th>coverage</th>\n",
       "      <th>education</th>\n",
       "      <th>effective_to_date</th>\n",
       "      <th>employmentstatus</th>\n",
       "      <th>gender</th>\n",
       "      <th>income</th>\n",
       "      <th>...</th>\n",
       "      <th>policy_type</th>\n",
       "      <th>policy</th>\n",
       "      <th>renew_offer_type</th>\n",
       "      <th>sales_channel</th>\n",
       "      <th>total_claim_amount</th>\n",
       "      <th>vehicle_class</th>\n",
       "      <th>vehicle_size</th>\n",
       "      <th>vehicle_type</th>\n",
       "      <th>month</th>\n",
       "      <th>responded</th>\n",
       "    </tr>\n",
       "  </thead>\n",
       "  <tbody>\n",
       "    <tr>\n",
       "      <th>0</th>\n",
       "      <td>DK49336</td>\n",
       "      <td>Arizona</td>\n",
       "      <td>4809.216960</td>\n",
       "      <td>No</td>\n",
       "      <td>Basic</td>\n",
       "      <td>College</td>\n",
       "      <td>2011-02-18</td>\n",
       "      <td>Employed</td>\n",
       "      <td>M</td>\n",
       "      <td>48029</td>\n",
       "      <td>...</td>\n",
       "      <td>Corporate Auto</td>\n",
       "      <td>Corporate L3</td>\n",
       "      <td>Offer3</td>\n",
       "      <td>Agent</td>\n",
       "      <td>292.800000</td>\n",
       "      <td>Four-Door Car</td>\n",
       "      <td>Medsize</td>\n",
       "      <td>A</td>\n",
       "      <td>2</td>\n",
       "      <td>False</td>\n",
       "    </tr>\n",
       "    <tr>\n",
       "      <th>1</th>\n",
       "      <td>KX64629</td>\n",
       "      <td>California</td>\n",
       "      <td>2228.525238</td>\n",
       "      <td>No</td>\n",
       "      <td>Basic</td>\n",
       "      <td>College</td>\n",
       "      <td>2011-01-18</td>\n",
       "      <td>Unemployed</td>\n",
       "      <td>F</td>\n",
       "      <td>0</td>\n",
       "      <td>...</td>\n",
       "      <td>Personal Auto</td>\n",
       "      <td>Personal L3</td>\n",
       "      <td>Offer4</td>\n",
       "      <td>Call Center</td>\n",
       "      <td>744.924331</td>\n",
       "      <td>Four-Door Car</td>\n",
       "      <td>Medsize</td>\n",
       "      <td>A</td>\n",
       "      <td>1</td>\n",
       "      <td>False</td>\n",
       "    </tr>\n",
       "    <tr>\n",
       "      <th>2</th>\n",
       "      <td>LZ68649</td>\n",
       "      <td>Washington</td>\n",
       "      <td>14947.917300</td>\n",
       "      <td>No</td>\n",
       "      <td>Basic</td>\n",
       "      <td>Bachelor</td>\n",
       "      <td>2011-02-10</td>\n",
       "      <td>Employed</td>\n",
       "      <td>M</td>\n",
       "      <td>22139</td>\n",
       "      <td>...</td>\n",
       "      <td>Personal Auto</td>\n",
       "      <td>Personal L3</td>\n",
       "      <td>Offer3</td>\n",
       "      <td>Call Center</td>\n",
       "      <td>480.000000</td>\n",
       "      <td>SUV</td>\n",
       "      <td>Medsize</td>\n",
       "      <td>A</td>\n",
       "      <td>2</td>\n",
       "      <td>False</td>\n",
       "    </tr>\n",
       "    <tr>\n",
       "      <th>3</th>\n",
       "      <td>XL78013</td>\n",
       "      <td>Oregon</td>\n",
       "      <td>22332.439460</td>\n",
       "      <td>Yes</td>\n",
       "      <td>Extended</td>\n",
       "      <td>College</td>\n",
       "      <td>2011-01-11</td>\n",
       "      <td>Employed</td>\n",
       "      <td>M</td>\n",
       "      <td>49078</td>\n",
       "      <td>...</td>\n",
       "      <td>Corporate Auto</td>\n",
       "      <td>Corporate L3</td>\n",
       "      <td>Offer2</td>\n",
       "      <td>Branch</td>\n",
       "      <td>484.013411</td>\n",
       "      <td>Four-Door Car</td>\n",
       "      <td>Medsize</td>\n",
       "      <td>A</td>\n",
       "      <td>1</td>\n",
       "      <td>True</td>\n",
       "    </tr>\n",
       "    <tr>\n",
       "      <th>4</th>\n",
       "      <td>QA50777</td>\n",
       "      <td>Oregon</td>\n",
       "      <td>9025.067525</td>\n",
       "      <td>No</td>\n",
       "      <td>Premium</td>\n",
       "      <td>Bachelor</td>\n",
       "      <td>2011-01-17</td>\n",
       "      <td>Medical Leave</td>\n",
       "      <td>F</td>\n",
       "      <td>23675</td>\n",
       "      <td>...</td>\n",
       "      <td>Personal Auto</td>\n",
       "      <td>Personal L2</td>\n",
       "      <td>Offer1</td>\n",
       "      <td>Branch</td>\n",
       "      <td>707.925645</td>\n",
       "      <td>Four-Door Car</td>\n",
       "      <td>Medsize</td>\n",
       "      <td>A</td>\n",
       "      <td>1</td>\n",
       "      <td>False</td>\n",
       "    </tr>\n",
       "    <tr>\n",
       "      <th>...</th>\n",
       "      <td>...</td>\n",
       "      <td>...</td>\n",
       "      <td>...</td>\n",
       "      <td>...</td>\n",
       "      <td>...</td>\n",
       "      <td>...</td>\n",
       "      <td>...</td>\n",
       "      <td>...</td>\n",
       "      <td>...</td>\n",
       "      <td>...</td>\n",
       "      <td>...</td>\n",
       "      <td>...</td>\n",
       "      <td>...</td>\n",
       "      <td>...</td>\n",
       "      <td>...</td>\n",
       "      <td>...</td>\n",
       "      <td>...</td>\n",
       "      <td>...</td>\n",
       "      <td>...</td>\n",
       "      <td>...</td>\n",
       "      <td>...</td>\n",
       "    </tr>\n",
       "    <tr>\n",
       "      <th>10905</th>\n",
       "      <td>FE99816</td>\n",
       "      <td>Nevada</td>\n",
       "      <td>15563.369440</td>\n",
       "      <td>No</td>\n",
       "      <td>Premium</td>\n",
       "      <td>Bachelor</td>\n",
       "      <td>2011-01-19</td>\n",
       "      <td>Unemployed</td>\n",
       "      <td>F</td>\n",
       "      <td>0</td>\n",
       "      <td>...</td>\n",
       "      <td>Personal Auto</td>\n",
       "      <td>Personal L1</td>\n",
       "      <td>Offer3</td>\n",
       "      <td>Web</td>\n",
       "      <td>1214.400000</td>\n",
       "      <td>Luxury Car</td>\n",
       "      <td>Medsize</td>\n",
       "      <td>A</td>\n",
       "      <td>1</td>\n",
       "      <td>False</td>\n",
       "    </tr>\n",
       "    <tr>\n",
       "      <th>10906</th>\n",
       "      <td>KX53892</td>\n",
       "      <td>Oregon</td>\n",
       "      <td>5259.444853</td>\n",
       "      <td>No</td>\n",
       "      <td>Basic</td>\n",
       "      <td>College</td>\n",
       "      <td>2011-01-06</td>\n",
       "      <td>Employed</td>\n",
       "      <td>F</td>\n",
       "      <td>61146</td>\n",
       "      <td>...</td>\n",
       "      <td>Personal Auto</td>\n",
       "      <td>Personal L3</td>\n",
       "      <td>Offer2</td>\n",
       "      <td>Branch</td>\n",
       "      <td>273.018929</td>\n",
       "      <td>Four-Door Car</td>\n",
       "      <td>Medsize</td>\n",
       "      <td>A</td>\n",
       "      <td>1</td>\n",
       "      <td>False</td>\n",
       "    </tr>\n",
       "    <tr>\n",
       "      <th>10907</th>\n",
       "      <td>TL39050</td>\n",
       "      <td>Arizona</td>\n",
       "      <td>23893.304100</td>\n",
       "      <td>No</td>\n",
       "      <td>Extended</td>\n",
       "      <td>Bachelor</td>\n",
       "      <td>2011-02-06</td>\n",
       "      <td>Employed</td>\n",
       "      <td>F</td>\n",
       "      <td>39837</td>\n",
       "      <td>...</td>\n",
       "      <td>Corporate Auto</td>\n",
       "      <td>Corporate L3</td>\n",
       "      <td>Offer1</td>\n",
       "      <td>Web</td>\n",
       "      <td>381.306996</td>\n",
       "      <td>Luxury SUV</td>\n",
       "      <td>Medsize</td>\n",
       "      <td>A</td>\n",
       "      <td>2</td>\n",
       "      <td>False</td>\n",
       "    </tr>\n",
       "    <tr>\n",
       "      <th>10908</th>\n",
       "      <td>WA60547</td>\n",
       "      <td>California</td>\n",
       "      <td>11971.977650</td>\n",
       "      <td>No</td>\n",
       "      <td>Premium</td>\n",
       "      <td>College</td>\n",
       "      <td>2011-02-13</td>\n",
       "      <td>Employed</td>\n",
       "      <td>F</td>\n",
       "      <td>64195</td>\n",
       "      <td>...</td>\n",
       "      <td>Personal Auto</td>\n",
       "      <td>Personal L1</td>\n",
       "      <td>Offer1</td>\n",
       "      <td>Branch</td>\n",
       "      <td>618.288849</td>\n",
       "      <td>SUV</td>\n",
       "      <td>Medsize</td>\n",
       "      <td>A</td>\n",
       "      <td>2</td>\n",
       "      <td>False</td>\n",
       "    </tr>\n",
       "    <tr>\n",
       "      <th>10909</th>\n",
       "      <td>IV32877</td>\n",
       "      <td>California</td>\n",
       "      <td>6857.519928</td>\n",
       "      <td>No</td>\n",
       "      <td>Basic</td>\n",
       "      <td>Bachelor</td>\n",
       "      <td>2011-01-08</td>\n",
       "      <td>Unemployed</td>\n",
       "      <td>M</td>\n",
       "      <td>0</td>\n",
       "      <td>...</td>\n",
       "      <td>Personal Auto</td>\n",
       "      <td>Personal L1</td>\n",
       "      <td>Offer4</td>\n",
       "      <td>Web</td>\n",
       "      <td>1021.719397</td>\n",
       "      <td>SUV</td>\n",
       "      <td>Medsize</td>\n",
       "      <td>A</td>\n",
       "      <td>1</td>\n",
       "      <td>False</td>\n",
       "    </tr>\n",
       "  </tbody>\n",
       "</table>\n",
       "<p>10910 rows × 27 columns</p>\n",
       "</div>"
      ],
      "text/plain": [
       "      customer       state  customer_lifetime_value response  coverage  \\\n",
       "0      DK49336     Arizona              4809.216960       No     Basic   \n",
       "1      KX64629  California              2228.525238       No     Basic   \n",
       "2      LZ68649  Washington             14947.917300       No     Basic   \n",
       "3      XL78013      Oregon             22332.439460      Yes  Extended   \n",
       "4      QA50777      Oregon              9025.067525       No   Premium   \n",
       "...        ...         ...                      ...      ...       ...   \n",
       "10905  FE99816      Nevada             15563.369440       No   Premium   \n",
       "10906  KX53892      Oregon              5259.444853       No     Basic   \n",
       "10907  TL39050     Arizona             23893.304100       No  Extended   \n",
       "10908  WA60547  California             11971.977650       No   Premium   \n",
       "10909  IV32877  California              6857.519928       No     Basic   \n",
       "\n",
       "      education effective_to_date employmentstatus gender  income  ...  \\\n",
       "0       College        2011-02-18         Employed      M   48029  ...   \n",
       "1       College        2011-01-18       Unemployed      F       0  ...   \n",
       "2      Bachelor        2011-02-10         Employed      M   22139  ...   \n",
       "3       College        2011-01-11         Employed      M   49078  ...   \n",
       "4      Bachelor        2011-01-17    Medical Leave      F   23675  ...   \n",
       "...         ...               ...              ...    ...     ...  ...   \n",
       "10905  Bachelor        2011-01-19       Unemployed      F       0  ...   \n",
       "10906   College        2011-01-06         Employed      F   61146  ...   \n",
       "10907  Bachelor        2011-02-06         Employed      F   39837  ...   \n",
       "10908   College        2011-02-13         Employed      F   64195  ...   \n",
       "10909  Bachelor        2011-01-08       Unemployed      M       0  ...   \n",
       "\n",
       "          policy_type        policy  renew_offer_type  sales_channel  \\\n",
       "0      Corporate Auto  Corporate L3            Offer3          Agent   \n",
       "1       Personal Auto   Personal L3            Offer4    Call Center   \n",
       "2       Personal Auto   Personal L3            Offer3    Call Center   \n",
       "3      Corporate Auto  Corporate L3            Offer2         Branch   \n",
       "4       Personal Auto   Personal L2            Offer1         Branch   \n",
       "...               ...           ...               ...            ...   \n",
       "10905   Personal Auto   Personal L1            Offer3            Web   \n",
       "10906   Personal Auto   Personal L3            Offer2         Branch   \n",
       "10907  Corporate Auto  Corporate L3            Offer1            Web   \n",
       "10908   Personal Auto   Personal L1            Offer1         Branch   \n",
       "10909   Personal Auto   Personal L1            Offer4            Web   \n",
       "\n",
       "       total_claim_amount  vehicle_class  vehicle_size vehicle_type month  \\\n",
       "0              292.800000  Four-Door Car       Medsize            A     2   \n",
       "1              744.924331  Four-Door Car       Medsize            A     1   \n",
       "2              480.000000            SUV       Medsize            A     2   \n",
       "3              484.013411  Four-Door Car       Medsize            A     1   \n",
       "4              707.925645  Four-Door Car       Medsize            A     1   \n",
       "...                   ...            ...           ...          ...   ...   \n",
       "10905         1214.400000     Luxury Car       Medsize            A     1   \n",
       "10906          273.018929  Four-Door Car       Medsize            A     1   \n",
       "10907          381.306996     Luxury SUV       Medsize            A     2   \n",
       "10908          618.288849            SUV       Medsize            A     2   \n",
       "10909         1021.719397            SUV       Medsize            A     1   \n",
       "\n",
       "      responded  \n",
       "0         False  \n",
       "1         False  \n",
       "2         False  \n",
       "3          True  \n",
       "4         False  \n",
       "...         ...  \n",
       "10905     False  \n",
       "10906     False  \n",
       "10907     False  \n",
       "10908     False  \n",
       "10909     False  \n",
       "\n",
       "[10910 rows x 27 columns]"
      ]
     },
     "execution_count": 133,
     "metadata": {},
     "output_type": "execute_result"
    }
   ],
   "source": [
    "marketing_customer_data['responded'] = marketing_customer_data['response'].isin(['Yes', 8813])\n",
    "marketing_customer_data"
   ]
  },
  {
   "cell_type": "code",
   "execution_count": 135,
   "id": "4915805e",
   "metadata": {},
   "outputs": [
    {
     "data": {
      "image/png": "[encoded data removed]",
      "text/plain": [
       "<Figure size 640x480 with 1 Axes>"
      ]
     },
     "metadata": {},
     "output_type": "display_data"
    }
   ],
   "source": [
    "import matplotlib.pyplot as plt\n",
    "import seaborn as sns\n",
    "\n",
    "sns.barplot(x=\"sales_channel\", y=\"responded\", data=marketing_customer_data)\n",
    "plt.show()"
   ]
  },
  {
   "cell_type": "markdown",
   "id": "bc6834e7",
   "metadata": {},
   "source": [
    "## Show a plot of the response rate by the total claim amount."
   ]
  },
  {
   "cell_type": "code",
   "execution_count": 136,
   "id": "b1969e3a",
   "metadata": {},
   "outputs": [
    {
     "data": {
      "image/png": "[encoded data removed]",
      "text/plain": [
       "<Figure size 640x480 with 1 Axes>"
      ]
     },
     "metadata": {},
     "output_type": "display_data"
    }
   ],
   "source": [
    "sns.boxplot(x = 'responded',y='total_claim_amount', data=marketing_customer_data)\n",
    "plt.show()"
   ]
  },
  {
   "cell_type": "markdown",
   "id": "e125ab22",
   "metadata": {},
   "source": [
    "## Show a plot of the response rate by income."
   ]
  },
  {
   "cell_type": "code",
   "execution_count": 137,
   "id": "6830d373",
   "metadata": {},
   "outputs": [
    {
     "data": {
      "image/png": "[encoded data removed]",
      "text/plain": [
       "<Figure size 640x480 with 1 Axes>"
      ]
     },
     "metadata": {},
     "output_type": "display_data"
    }
   ],
   "source": [
    "sns.boxplot(x = 'responded',y='income', data=marketing_customer_data)\n",
    "plt.show()"
   ]
  },
  {
   "cell_type": "markdown",
   "id": "46f13d6a",
   "metadata": {},
   "source": [
    "# Round 4"
   ]
  },
  {
   "cell_type": "markdown",
   "id": "3394649a",
   "metadata": {},
   "source": [
    "## Check the data types of the columns. Get the numeric data into dataframe called numerical and categorical columns in a dataframe called categoricals. (You can use np.number and np.object to select the numerical data types and categorical data types respectively)"
   ]
  },
  {
   "cell_type": "code",
   "execution_count": 139,
   "id": "6b34bdc7",
   "metadata": {
    "scrolled": true
   },
   "outputs": [
    {
     "data": {
      "text/html": [
       "<div>\n",
       "<style scoped>\n",
       "    .dataframe tbody tr th:only-of-type {\n",
       "        vertical-align: middle;\n",
       "    }\n",
       "\n",
       "    .dataframe tbody tr th {\n",
       "        vertical-align: top;\n",
       "    }\n",
       "\n",
       "    .dataframe thead th {\n",
       "        text-align: right;\n",
       "    }\n",
       "</style>\n",
       "<table border=\"1\" class=\"dataframe\">\n",
       "  <thead>\n",
       "    <tr style=\"text-align: right;\">\n",
       "      <th></th>\n",
       "      <th>customer_lifetime_value</th>\n",
       "      <th>income</th>\n",
       "      <th>monthly_premium_auto</th>\n",
       "      <th>months_since_last_claim</th>\n",
       "      <th>months_since_policy_inception</th>\n",
       "      <th>number_of_open_complaints</th>\n",
       "      <th>number_of_policies</th>\n",
       "      <th>total_claim_amount</th>\n",
       "      <th>month</th>\n",
       "      <th>responded</th>\n",
       "    </tr>\n",
       "  </thead>\n",
       "  <tbody>\n",
       "    <tr>\n",
       "      <th>0</th>\n",
       "      <td>4809.216960</td>\n",
       "      <td>48029</td>\n",
       "      <td>61</td>\n",
       "      <td>7.000000</td>\n",
       "      <td>52</td>\n",
       "      <td>0.000000</td>\n",
       "      <td>9</td>\n",
       "      <td>292.800000</td>\n",
       "      <td>2</td>\n",
       "      <td>0</td>\n",
       "    </tr>\n",
       "    <tr>\n",
       "      <th>1</th>\n",
       "      <td>2228.525238</td>\n",
       "      <td>0</td>\n",
       "      <td>64</td>\n",
       "      <td>3.000000</td>\n",
       "      <td>26</td>\n",
       "      <td>0.000000</td>\n",
       "      <td>1</td>\n",
       "      <td>744.924331</td>\n",
       "      <td>1</td>\n",
       "      <td>0</td>\n",
       "    </tr>\n",
       "    <tr>\n",
       "      <th>2</th>\n",
       "      <td>14947.917300</td>\n",
       "      <td>22139</td>\n",
       "      <td>100</td>\n",
       "      <td>34.000000</td>\n",
       "      <td>31</td>\n",
       "      <td>0.000000</td>\n",
       "      <td>2</td>\n",
       "      <td>480.000000</td>\n",
       "      <td>2</td>\n",
       "      <td>0</td>\n",
       "    </tr>\n",
       "    <tr>\n",
       "      <th>3</th>\n",
       "      <td>22332.439460</td>\n",
       "      <td>49078</td>\n",
       "      <td>97</td>\n",
       "      <td>10.000000</td>\n",
       "      <td>3</td>\n",
       "      <td>0.000000</td>\n",
       "      <td>2</td>\n",
       "      <td>484.013411</td>\n",
       "      <td>1</td>\n",
       "      <td>1</td>\n",
       "    </tr>\n",
       "    <tr>\n",
       "      <th>4</th>\n",
       "      <td>9025.067525</td>\n",
       "      <td>23675</td>\n",
       "      <td>117</td>\n",
       "      <td>15.149071</td>\n",
       "      <td>31</td>\n",
       "      <td>0.384256</td>\n",
       "      <td>7</td>\n",
       "      <td>707.925645</td>\n",
       "      <td>1</td>\n",
       "      <td>0</td>\n",
       "    </tr>\n",
       "    <tr>\n",
       "      <th>...</th>\n",
       "      <td>...</td>\n",
       "      <td>...</td>\n",
       "      <td>...</td>\n",
       "      <td>...</td>\n",
       "      <td>...</td>\n",
       "      <td>...</td>\n",
       "      <td>...</td>\n",
       "      <td>...</td>\n",
       "      <td>...</td>\n",
       "      <td>...</td>\n",
       "    </tr>\n",
       "    <tr>\n",
       "      <th>10905</th>\n",
       "      <td>15563.369440</td>\n",
       "      <td>0</td>\n",
       "      <td>253</td>\n",
       "      <td>15.149071</td>\n",
       "      <td>40</td>\n",
       "      <td>0.384256</td>\n",
       "      <td>7</td>\n",
       "      <td>1214.400000</td>\n",
       "      <td>1</td>\n",
       "      <td>0</td>\n",
       "    </tr>\n",
       "    <tr>\n",
       "      <th>10906</th>\n",
       "      <td>5259.444853</td>\n",
       "      <td>61146</td>\n",
       "      <td>65</td>\n",
       "      <td>7.000000</td>\n",
       "      <td>68</td>\n",
       "      <td>0.000000</td>\n",
       "      <td>6</td>\n",
       "      <td>273.018929</td>\n",
       "      <td>1</td>\n",
       "      <td>0</td>\n",
       "    </tr>\n",
       "    <tr>\n",
       "      <th>10907</th>\n",
       "      <td>23893.304100</td>\n",
       "      <td>39837</td>\n",
       "      <td>201</td>\n",
       "      <td>11.000000</td>\n",
       "      <td>63</td>\n",
       "      <td>0.000000</td>\n",
       "      <td>2</td>\n",
       "      <td>381.306996</td>\n",
       "      <td>2</td>\n",
       "      <td>0</td>\n",
       "    </tr>\n",
       "    <tr>\n",
       "      <th>10908</th>\n",
       "      <td>11971.977650</td>\n",
       "      <td>64195</td>\n",
       "      <td>158</td>\n",
       "      <td>0.000000</td>\n",
       "      <td>27</td>\n",
       "      <td>4.000000</td>\n",
       "      <td>6</td>\n",
       "      <td>618.288849</td>\n",
       "      <td>2</td>\n",
       "      <td>0</td>\n",
       "    </tr>\n",
       "    <tr>\n",
       "      <th>10909</th>\n",
       "      <td>6857.519928</td>\n",
       "      <td>0</td>\n",
       "      <td>101</td>\n",
       "      <td>31.000000</td>\n",
       "      <td>1</td>\n",
       "      <td>0.000000</td>\n",
       "      <td>3</td>\n",
       "      <td>1021.719397</td>\n",
       "      <td>1</td>\n",
       "      <td>0</td>\n",
       "    </tr>\n",
       "  </tbody>\n",
       "</table>\n",
       "<p>10910 rows × 10 columns</p>\n",
       "</div>"
      ],
      "text/plain": [
       "       customer_lifetime_value  income  monthly_premium_auto  \\\n",
       "0                  4809.216960   48029                    61   \n",
       "1                  2228.525238       0                    64   \n",
       "2                 14947.917300   22139                   100   \n",
       "3                 22332.439460   49078                    97   \n",
       "4                  9025.067525   23675                   117   \n",
       "...                        ...     ...                   ...   \n",
       "10905             15563.369440       0                   253   \n",
       "10906              5259.444853   61146                    65   \n",
       "10907             23893.304100   39837                   201   \n",
       "10908             11971.977650   64195                   158   \n",
       "10909              6857.519928       0                   101   \n",
       "\n",
       "       months_since_last_claim  months_since_policy_inception  \\\n",
       "0                     7.000000                             52   \n",
       "1                     3.000000                             26   \n",
       "2                    34.000000                             31   \n",
       "3                    10.000000                              3   \n",
       "4                    15.149071                             31   \n",
       "...                        ...                            ...   \n",
       "10905                15.149071                             40   \n",
       "10906                 7.000000                             68   \n",
       "10907                11.000000                             63   \n",
       "10908                 0.000000                             27   \n",
       "10909                31.000000                              1   \n",
       "\n",
       "       number_of_open_complaints  number_of_policies  total_claim_amount  \\\n",
       "0                       0.000000                   9          292.800000   \n",
       "1                       0.000000                   1          744.924331   \n",
       "2                       0.000000                   2          480.000000   \n",
       "3                       0.000000                   2          484.013411   \n",
       "4                       0.384256                   7          707.925645   \n",
       "...                          ...                 ...                 ...   \n",
       "10905                   0.384256                   7         1214.400000   \n",
       "10906                   0.000000                   6          273.018929   \n",
       "10907                   0.000000                   2          381.306996   \n",
       "10908                   4.000000                   6          618.288849   \n",
       "10909                   0.000000                   3         1021.719397   \n",
       "\n",
       "       month  responded  \n",
       "0          2          0  \n",
       "1          1          0  \n",
       "2          2          0  \n",
       "3          1          1  \n",
       "4          1          0  \n",
       "...      ...        ...  \n",
       "10905      1          0  \n",
       "10906      1          0  \n",
       "10907      2          0  \n",
       "10908      2          0  \n",
       "10909      1          0  \n",
       "\n",
       "[10910 rows x 10 columns]"
      ]
     },
     "execution_count": 139,
     "metadata": {},
     "output_type": "execute_result"
    }
   ],
   "source": [
    "import numpy as np\n",
    "\n",
    "marketing_customer_data[\"responded\"] = marketing_customer_data[\"responded\"].astype(int)\n",
    "\n",
    "numerical = marketing_customer_data.select_dtypes(np.number)\n",
    "numerical"
   ]
  },
  {
   "cell_type": "code",
   "execution_count": 140,
   "id": "01c1d989",
   "metadata": {
    "scrolled": true
   },
   "outputs": [
    {
     "data": {
      "text/html": [
       "<div>\n",
       "<style scoped>\n",
       "    .dataframe tbody tr th:only-of-type {\n",
       "        vertical-align: middle;\n",
       "    }\n",
       "\n",
       "    .dataframe tbody tr th {\n",
       "        vertical-align: top;\n",
       "    }\n",
       "\n",
       "    .dataframe thead th {\n",
       "        text-align: right;\n",
       "    }\n",
       "</style>\n",
       "<table border=\"1\" class=\"dataframe\">\n",
       "  <thead>\n",
       "    <tr style=\"text-align: right;\">\n",
       "      <th></th>\n",
       "      <th>customer</th>\n",
       "      <th>state</th>\n",
       "      <th>response</th>\n",
       "      <th>coverage</th>\n",
       "      <th>education</th>\n",
       "      <th>employmentstatus</th>\n",
       "      <th>gender</th>\n",
       "      <th>location_code</th>\n",
       "      <th>marital_status</th>\n",
       "      <th>policy_type</th>\n",
       "      <th>policy</th>\n",
       "      <th>renew_offer_type</th>\n",
       "      <th>sales_channel</th>\n",
       "      <th>vehicle_class</th>\n",
       "      <th>vehicle_size</th>\n",
       "      <th>vehicle_type</th>\n",
       "    </tr>\n",
       "  </thead>\n",
       "  <tbody>\n",
       "    <tr>\n",
       "      <th>0</th>\n",
       "      <td>DK49336</td>\n",
       "      <td>Arizona</td>\n",
       "      <td>No</td>\n",
       "      <td>Basic</td>\n",
       "      <td>College</td>\n",
       "      <td>Employed</td>\n",
       "      <td>M</td>\n",
       "      <td>Suburban</td>\n",
       "      <td>Married</td>\n",
       "      <td>Corporate Auto</td>\n",
       "      <td>Corporate L3</td>\n",
       "      <td>Offer3</td>\n",
       "      <td>Agent</td>\n",
       "      <td>Four-Door Car</td>\n",
       "      <td>Medsize</td>\n",
       "      <td>A</td>\n",
       "    </tr>\n",
       "    <tr>\n",
       "      <th>1</th>\n",
       "      <td>KX64629</td>\n",
       "      <td>California</td>\n",
       "      <td>No</td>\n",
       "      <td>Basic</td>\n",
       "      <td>College</td>\n",
       "      <td>Unemployed</td>\n",
       "      <td>F</td>\n",
       "      <td>Suburban</td>\n",
       "      <td>Single</td>\n",
       "      <td>Personal Auto</td>\n",
       "      <td>Personal L3</td>\n",
       "      <td>Offer4</td>\n",
       "      <td>Call Center</td>\n",
       "      <td>Four-Door Car</td>\n",
       "      <td>Medsize</td>\n",
       "      <td>A</td>\n",
       "    </tr>\n",
       "    <tr>\n",
       "      <th>2</th>\n",
       "      <td>LZ68649</td>\n",
       "      <td>Washington</td>\n",
       "      <td>No</td>\n",
       "      <td>Basic</td>\n",
       "      <td>Bachelor</td>\n",
       "      <td>Employed</td>\n",
       "      <td>M</td>\n",
       "      <td>Suburban</td>\n",
       "      <td>Single</td>\n",
       "      <td>Personal Auto</td>\n",
       "      <td>Personal L3</td>\n",
       "      <td>Offer3</td>\n",
       "      <td>Call Center</td>\n",
       "      <td>SUV</td>\n",
       "      <td>Medsize</td>\n",
       "      <td>A</td>\n",
       "    </tr>\n",
       "    <tr>\n",
       "      <th>3</th>\n",
       "      <td>XL78013</td>\n",
       "      <td>Oregon</td>\n",
       "      <td>Yes</td>\n",
       "      <td>Extended</td>\n",
       "      <td>College</td>\n",
       "      <td>Employed</td>\n",
       "      <td>M</td>\n",
       "      <td>Suburban</td>\n",
       "      <td>Single</td>\n",
       "      <td>Corporate Auto</td>\n",
       "      <td>Corporate L3</td>\n",
       "      <td>Offer2</td>\n",
       "      <td>Branch</td>\n",
       "      <td>Four-Door Car</td>\n",
       "      <td>Medsize</td>\n",
       "      <td>A</td>\n",
       "    </tr>\n",
       "    <tr>\n",
       "      <th>4</th>\n",
       "      <td>QA50777</td>\n",
       "      <td>Oregon</td>\n",
       "      <td>No</td>\n",
       "      <td>Premium</td>\n",
       "      <td>Bachelor</td>\n",
       "      <td>Medical Leave</td>\n",
       "      <td>F</td>\n",
       "      <td>Suburban</td>\n",
       "      <td>Married</td>\n",
       "      <td>Personal Auto</td>\n",
       "      <td>Personal L2</td>\n",
       "      <td>Offer1</td>\n",
       "      <td>Branch</td>\n",
       "      <td>Four-Door Car</td>\n",
       "      <td>Medsize</td>\n",
       "      <td>A</td>\n",
       "    </tr>\n",
       "    <tr>\n",
       "      <th>...</th>\n",
       "      <td>...</td>\n",
       "      <td>...</td>\n",
       "      <td>...</td>\n",
       "      <td>...</td>\n",
       "      <td>...</td>\n",
       "      <td>...</td>\n",
       "      <td>...</td>\n",
       "      <td>...</td>\n",
       "      <td>...</td>\n",
       "      <td>...</td>\n",
       "      <td>...</td>\n",
       "      <td>...</td>\n",
       "      <td>...</td>\n",
       "      <td>...</td>\n",
       "      <td>...</td>\n",
       "      <td>...</td>\n",
       "    </tr>\n",
       "    <tr>\n",
       "      <th>10905</th>\n",
       "      <td>FE99816</td>\n",
       "      <td>Nevada</td>\n",
       "      <td>No</td>\n",
       "      <td>Premium</td>\n",
       "      <td>Bachelor</td>\n",
       "      <td>Unemployed</td>\n",
       "      <td>F</td>\n",
       "      <td>Suburban</td>\n",
       "      <td>Married</td>\n",
       "      <td>Personal Auto</td>\n",
       "      <td>Personal L1</td>\n",
       "      <td>Offer3</td>\n",
       "      <td>Web</td>\n",
       "      <td>Luxury Car</td>\n",
       "      <td>Medsize</td>\n",
       "      <td>A</td>\n",
       "    </tr>\n",
       "    <tr>\n",
       "      <th>10906</th>\n",
       "      <td>KX53892</td>\n",
       "      <td>Oregon</td>\n",
       "      <td>No</td>\n",
       "      <td>Basic</td>\n",
       "      <td>College</td>\n",
       "      <td>Employed</td>\n",
       "      <td>F</td>\n",
       "      <td>Urban</td>\n",
       "      <td>Married</td>\n",
       "      <td>Personal Auto</td>\n",
       "      <td>Personal L3</td>\n",
       "      <td>Offer2</td>\n",
       "      <td>Branch</td>\n",
       "      <td>Four-Door Car</td>\n",
       "      <td>Medsize</td>\n",
       "      <td>A</td>\n",
       "    </tr>\n",
       "    <tr>\n",
       "      <th>10907</th>\n",
       "      <td>TL39050</td>\n",
       "      <td>Arizona</td>\n",
       "      <td>No</td>\n",
       "      <td>Extended</td>\n",
       "      <td>Bachelor</td>\n",
       "      <td>Employed</td>\n",
       "      <td>F</td>\n",
       "      <td>Rural</td>\n",
       "      <td>Married</td>\n",
       "      <td>Corporate Auto</td>\n",
       "      <td>Corporate L3</td>\n",
       "      <td>Offer1</td>\n",
       "      <td>Web</td>\n",
       "      <td>Luxury SUV</td>\n",
       "      <td>Medsize</td>\n",
       "      <td>A</td>\n",
       "    </tr>\n",
       "    <tr>\n",
       "      <th>10908</th>\n",
       "      <td>WA60547</td>\n",
       "      <td>California</td>\n",
       "      <td>No</td>\n",
       "      <td>Premium</td>\n",
       "      <td>College</td>\n",
       "      <td>Employed</td>\n",
       "      <td>F</td>\n",
       "      <td>Urban</td>\n",
       "      <td>Divorced</td>\n",
       "      <td>Personal Auto</td>\n",
       "      <td>Personal L1</td>\n",
       "      <td>Offer1</td>\n",
       "      <td>Branch</td>\n",
       "      <td>SUV</td>\n",
       "      <td>Medsize</td>\n",
       "      <td>A</td>\n",
       "    </tr>\n",
       "    <tr>\n",
       "      <th>10909</th>\n",
       "      <td>IV32877</td>\n",
       "      <td>California</td>\n",
       "      <td>No</td>\n",
       "      <td>Basic</td>\n",
       "      <td>Bachelor</td>\n",
       "      <td>Unemployed</td>\n",
       "      <td>M</td>\n",
       "      <td>Suburban</td>\n",
       "      <td>Single</td>\n",
       "      <td>Personal Auto</td>\n",
       "      <td>Personal L1</td>\n",
       "      <td>Offer4</td>\n",
       "      <td>Web</td>\n",
       "      <td>SUV</td>\n",
       "      <td>Medsize</td>\n",
       "      <td>A</td>\n",
       "    </tr>\n",
       "  </tbody>\n",
       "</table>\n",
       "<p>10910 rows × 16 columns</p>\n",
       "</div>"
      ],
      "text/plain": [
       "      customer       state response  coverage education employmentstatus  \\\n",
       "0      DK49336     Arizona       No     Basic   College         Employed   \n",
       "1      KX64629  California       No     Basic   College       Unemployed   \n",
       "2      LZ68649  Washington       No     Basic  Bachelor         Employed   \n",
       "3      XL78013      Oregon      Yes  Extended   College         Employed   \n",
       "4      QA50777      Oregon       No   Premium  Bachelor    Medical Leave   \n",
       "...        ...         ...      ...       ...       ...              ...   \n",
       "10905  FE99816      Nevada       No   Premium  Bachelor       Unemployed   \n",
       "10906  KX53892      Oregon       No     Basic   College         Employed   \n",
       "10907  TL39050     Arizona       No  Extended  Bachelor         Employed   \n",
       "10908  WA60547  California       No   Premium   College         Employed   \n",
       "10909  IV32877  California       No     Basic  Bachelor       Unemployed   \n",
       "\n",
       "      gender location_code marital_status     policy_type        policy  \\\n",
       "0          M      Suburban        Married  Corporate Auto  Corporate L3   \n",
       "1          F      Suburban         Single   Personal Auto   Personal L3   \n",
       "2          M      Suburban         Single   Personal Auto   Personal L3   \n",
       "3          M      Suburban         Single  Corporate Auto  Corporate L3   \n",
       "4          F      Suburban        Married   Personal Auto   Personal L2   \n",
       "...      ...           ...            ...             ...           ...   \n",
       "10905      F      Suburban        Married   Personal Auto   Personal L1   \n",
       "10906      F         Urban        Married   Personal Auto   Personal L3   \n",
       "10907      F         Rural        Married  Corporate Auto  Corporate L3   \n",
       "10908      F         Urban       Divorced   Personal Auto   Personal L1   \n",
       "10909      M      Suburban         Single   Personal Auto   Personal L1   \n",
       "\n",
       "      renew_offer_type sales_channel  vehicle_class vehicle_size vehicle_type  \n",
       "0               Offer3         Agent  Four-Door Car      Medsize            A  \n",
       "1               Offer4   Call Center  Four-Door Car      Medsize            A  \n",
       "2               Offer3   Call Center            SUV      Medsize            A  \n",
       "3               Offer2        Branch  Four-Door Car      Medsize            A  \n",
       "4               Offer1        Branch  Four-Door Car      Medsize            A  \n",
       "...                ...           ...            ...          ...          ...  \n",
       "10905           Offer3           Web     Luxury Car      Medsize            A  \n",
       "10906           Offer2        Branch  Four-Door Car      Medsize            A  \n",
       "10907           Offer1           Web     Luxury SUV      Medsize            A  \n",
       "10908           Offer1        Branch            SUV      Medsize            A  \n",
       "10909           Offer4           Web            SUV      Medsize            A  \n",
       "\n",
       "[10910 rows x 16 columns]"
      ]
     },
     "execution_count": 140,
     "metadata": {},
     "output_type": "execute_result"
    }
   ],
   "source": [
    "categorical = marketing_customer_data.select_dtypes(object)\n",
    "categorical"
   ]
  },
  {
   "cell_type": "markdown",
   "id": "24ca46c4",
   "metadata": {},
   "source": [
    "## Now we will try to check the normality of the numerical variables visually"
   ]
  },
  {
   "cell_type": "markdown",
   "id": "4e3c8497",
   "metadata": {},
   "source": [
    "## Use seaborn library to construct distribution plots for the numerical variables"
   ]
  },
  {
   "cell_type": "code",
   "execution_count": 141,
   "id": "40f995f9",
   "metadata": {
    "scrolled": true
   },
   "outputs": [
    {
     "data": {
      "image/png": "[encoded data removed]",
      "text/plain": [
       "<Figure size 500x500 with 1 Axes>"
      ]
     },
     "metadata": {},
     "output_type": "display_data"
    },
    {
     "data": {
      "image/png": "[encoded data removed]",
      "text/plain": [
       "<Figure size 500x500 with 1 Axes>"
      ]
     },
     "metadata": {},
     "output_type": "display_data"
    },
    {
     "data": {
      "image/png": "[encoded data removed]",
      "text/plain": [
       "<Figure size 500x500 with 1 Axes>"
      ]
     },
     "metadata": {},
     "output_type": "display_data"
    },
    {
     "data": {
      "image/png": "[encoded data removed]",
      "text/plain": [
       "<Figure size 500x500 with 1 Axes>"
      ]
     },
     "metadata": {},
     "output_type": "display_data"
    },
    {
     "data": {
      "image/png": "[encoded data removed]",
      "text/plain": [
       "<Figure size 500x500 with 1 Axes>"
      ]
     },
     "metadata": {},
     "output_type": "display_data"
    },
    {
     "data": {
      "image/png": "[encoded data removed]",
      "text/plain": [
       "<Figure size 500x500 with 1 Axes>"
      ]
     },
     "metadata": {},
     "output_type": "display_data"
    },
    {
     "data": {
      "image/png": "[encoded data removed]",
      "text/plain": [
       "<Figure size 500x500 with 1 Axes>"
      ]
     },
     "metadata": {},
     "output_type": "display_data"
    },
    {
     "data": {
      "image/png": "[encoded data removed]",
      "text/plain": [
       "<Figure size 500x500 with 1 Axes>"
      ]
     },
     "metadata": {},
     "output_type": "display_data"
    },
    {
     "data": {
      "image/png": "[encoded data removed]",
      "text/plain": [
       "<Figure size 500x500 with 1 Axes>"
      ]
     },
     "metadata": {},
     "output_type": "display_data"
    },
    {
     "data": {
      "image/png": "[encoded data removed]",
      "text/plain": [
       "<Figure size 500x500 with 1 Axes>"
      ]
     },
     "metadata": {},
     "output_type": "display_data"
    }
   ],
   "source": [
    "for x in numerical:\n",
    "        sns.displot(numerical[x])\n",
    "        plt.show()"
   ]
  },
  {
   "cell_type": "markdown",
   "id": "25773563",
   "metadata": {},
   "source": [
    "## Use Matplotlib to construct histograms"
   ]
  },
  {
   "cell_type": "code",
   "execution_count": 142,
   "id": "bb5d2937",
   "metadata": {},
   "outputs": [
    {
     "name": "stdout",
     "output_type": "stream",
     "text": [
      "customer_lifetime_value\n"
     ]
    },
    {
     "data": {
      "image/png": "[encoded data removed]",
      "text/plain": [
       "<Figure size 640x480 with 1 Axes>"
      ]
     },
     "metadata": {},
     "output_type": "display_data"
    },
    {
     "name": "stdout",
     "output_type": "stream",
     "text": [
      "income\n"
     ]
    },
    {
     "data": {
      "image/png": "[encoded data removed]",
      "text/plain": [
       "<Figure size 640x480 with 1 Axes>"
      ]
     },
     "metadata": {},
     "output_type": "display_data"
    },
    {
     "name": "stdout",
     "output_type": "stream",
     "text": [
      "monthly_premium_auto\n"
     ]
    },
    {
     "data": {
      "image/png": "[encoded data removed]",
      "text/plain": [
       "<Figure size 640x480 with 1 Axes>"
      ]
     },
     "metadata": {},
     "output_type": "display_data"
    },
    {
     "name": "stdout",
     "output_type": "stream",
     "text": [
      "months_since_last_claim\n"
     ]
    },
    {
     "data": {
      "image/png": "[encoded data removed]",
      "text/plain": [
       "<Figure size 640x480 with 1 Axes>"
      ]
     },
     "metadata": {},
     "output_type": "display_data"
    },
    {
     "name": "stdout",
     "output_type": "stream",
     "text": [
      "months_since_policy_inception\n"
     ]
    },
    {
     "data": {
      "image/png": "[encoded data removed]",
      "text/plain": [
       "<Figure size 640x480 with 1 Axes>"
      ]
     },
     "metadata": {},
     "output_type": "display_data"
    },
    {
     "name": "stdout",
     "output_type": "stream",
     "text": [
      "number_of_open_complaints\n"
     ]
    },
    {
     "data": {
      "image/png": "[encoded data removed]",
      "text/plain": [
       "<Figure size 640x480 with 1 Axes>"
      ]
     },
     "metadata": {},
     "output_type": "display_data"
    },
    {
     "name": "stdout",
     "output_type": "stream",
     "text": [
      "number_of_policies\n"
     ]
    },
    {
     "data": {
      "image/png": "[encoded data removed]",
      "text/plain": [
       "<Figure size 640x480 with 1 Axes>"
      ]
     },
     "metadata": {},
     "output_type": "display_data"
    },
    {
     "name": "stdout",
     "output_type": "stream",
     "text": [
      "total_claim_amount\n"
     ]
    },
    {
     "data": {
      "image/png": "[encoded data removed]",
      "text/plain": [
       "<Figure size 640x480 with 1 Axes>"
      ]
     },
     "metadata": {},
     "output_type": "display_data"
    },
    {
     "name": "stdout",
     "output_type": "stream",
     "text": [
      "month\n"
     ]
    },
    {
     "data": {
      "image/png": "[encoded data removed]",
      "text/plain": [
       "<Figure size 640x480 with 1 Axes>"
      ]
     },
     "metadata": {},
     "output_type": "display_data"
    },
    {
     "name": "stdout",
     "output_type": "stream",
     "text": [
      "responded\n"
     ]
    },
    {
     "data": {
      "image/png": "[encoded data removed]",
      "text/plain": [
       "<Figure size 640x480 with 1 Axes>"
      ]
     },
     "metadata": {},
     "output_type": "display_data"
    }
   ],
   "source": [
    "for x in numerical:\n",
    "        print(x)\n",
    "        numerical[x].hist()\n",
    "        plt.show()"
   ]
  },
  {
   "cell_type": "markdown",
   "id": "0e8f0a39",
   "metadata": {},
   "source": [
    "## Do the distributions for different numerical variables look like a normal distribution"
   ]
  },
  {
   "cell_type": "markdown",
   "id": "fd5d31fb",
   "metadata": {},
   "source": [
    "They don't. We cannot see a symmetric pattern"
   ]
  },
  {
   "cell_type": "markdown",
   "id": "19ba1a19",
   "metadata": {},
   "source": [
    "## For the numerical variables, check the multicollinearity between the features. Please note that we will use the column total_claim_amount later as the target variable."
   ]
  },
  {
   "cell_type": "code",
   "execution_count": 143,
   "id": "b7bb06e5",
   "metadata": {
    "scrolled": true
   },
   "outputs": [
    {
     "data": {
      "image/png": "[encoded data removed]",
      "text/plain": [
       "<Figure size 640x480 with 2 Axes>"
      ]
     },
     "metadata": {},
     "output_type": "display_data"
    }
   ],
   "source": [
    "correlations_matrix = numerical.corr()\n",
    "sns.heatmap(correlations_matrix, annot=True)\n",
    "plt.show()"
   ]
  },
  {
   "cell_type": "markdown",
   "id": "a05b4f1b",
   "metadata": {},
   "source": [
    "## Drop one of the two features that show a high correlation between them (greater than 0.9). Write code for both the correlation matrix and for seaborn heatmap. If there is no pair of features that have a high correlation, then do not drop any features"
   ]
  },
  {
   "cell_type": "markdown",
   "id": "4d08b1f2",
   "metadata": {},
   "source": [
    "Nothing to drop as it seems there is no strong correlation."
   ]
  },
  {
   "cell_type": "markdown",
   "id": "e3eae75c",
   "metadata": {},
   "source": [
    "# ROUND 5"
   ]
  },
  {
   "cell_type": "markdown",
   "id": "d92cc561",
   "metadata": {},
   "source": [
    "## X-y split."
   ]
  },
  {
   "cell_type": "code",
   "execution_count": 144,
   "id": "3578dc92",
   "metadata": {
    "scrolled": true
   },
   "outputs": [
    {
     "data": {
      "text/html": [
       "<div>\n",
       "<style scoped>\n",
       "    .dataframe tbody tr th:only-of-type {\n",
       "        vertical-align: middle;\n",
       "    }\n",
       "\n",
       "    .dataframe tbody tr th {\n",
       "        vertical-align: top;\n",
       "    }\n",
       "\n",
       "    .dataframe thead th {\n",
       "        text-align: right;\n",
       "    }\n",
       "</style>\n",
       "<table border=\"1\" class=\"dataframe\">\n",
       "  <thead>\n",
       "    <tr style=\"text-align: right;\">\n",
       "      <th></th>\n",
       "      <th>customer_lifetime_value</th>\n",
       "      <th>income</th>\n",
       "      <th>monthly_premium_auto</th>\n",
       "      <th>months_since_last_claim</th>\n",
       "      <th>months_since_policy_inception</th>\n",
       "      <th>number_of_open_complaints</th>\n",
       "      <th>number_of_policies</th>\n",
       "      <th>total_claim_amount</th>\n",
       "      <th>month</th>\n",
       "      <th>responded</th>\n",
       "    </tr>\n",
       "  </thead>\n",
       "  <tbody>\n",
       "    <tr>\n",
       "      <th>0</th>\n",
       "      <td>4809.216960</td>\n",
       "      <td>48029</td>\n",
       "      <td>61</td>\n",
       "      <td>7.000000</td>\n",
       "      <td>52</td>\n",
       "      <td>0.000000</td>\n",
       "      <td>9</td>\n",
       "      <td>292.800000</td>\n",
       "      <td>2</td>\n",
       "      <td>0</td>\n",
       "    </tr>\n",
       "    <tr>\n",
       "      <th>1</th>\n",
       "      <td>2228.525238</td>\n",
       "      <td>0</td>\n",
       "      <td>64</td>\n",
       "      <td>3.000000</td>\n",
       "      <td>26</td>\n",
       "      <td>0.000000</td>\n",
       "      <td>1</td>\n",
       "      <td>744.924331</td>\n",
       "      <td>1</td>\n",
       "      <td>0</td>\n",
       "    </tr>\n",
       "    <tr>\n",
       "      <th>2</th>\n",
       "      <td>14947.917300</td>\n",
       "      <td>22139</td>\n",
       "      <td>100</td>\n",
       "      <td>34.000000</td>\n",
       "      <td>31</td>\n",
       "      <td>0.000000</td>\n",
       "      <td>2</td>\n",
       "      <td>480.000000</td>\n",
       "      <td>2</td>\n",
       "      <td>0</td>\n",
       "    </tr>\n",
       "    <tr>\n",
       "      <th>3</th>\n",
       "      <td>22332.439460</td>\n",
       "      <td>49078</td>\n",
       "      <td>97</td>\n",
       "      <td>10.000000</td>\n",
       "      <td>3</td>\n",
       "      <td>0.000000</td>\n",
       "      <td>2</td>\n",
       "      <td>484.013411</td>\n",
       "      <td>1</td>\n",
       "      <td>1</td>\n",
       "    </tr>\n",
       "    <tr>\n",
       "      <th>4</th>\n",
       "      <td>9025.067525</td>\n",
       "      <td>23675</td>\n",
       "      <td>117</td>\n",
       "      <td>15.149071</td>\n",
       "      <td>31</td>\n",
       "      <td>0.384256</td>\n",
       "      <td>7</td>\n",
       "      <td>707.925645</td>\n",
       "      <td>1</td>\n",
       "      <td>0</td>\n",
       "    </tr>\n",
       "    <tr>\n",
       "      <th>...</th>\n",
       "      <td>...</td>\n",
       "      <td>...</td>\n",
       "      <td>...</td>\n",
       "      <td>...</td>\n",
       "      <td>...</td>\n",
       "      <td>...</td>\n",
       "      <td>...</td>\n",
       "      <td>...</td>\n",
       "      <td>...</td>\n",
       "      <td>...</td>\n",
       "    </tr>\n",
       "    <tr>\n",
       "      <th>10905</th>\n",
       "      <td>15563.369440</td>\n",
       "      <td>0</td>\n",
       "      <td>253</td>\n",
       "      <td>15.149071</td>\n",
       "      <td>40</td>\n",
       "      <td>0.384256</td>\n",
       "      <td>7</td>\n",
       "      <td>1214.400000</td>\n",
       "      <td>1</td>\n",
       "      <td>0</td>\n",
       "    </tr>\n",
       "    <tr>\n",
       "      <th>10906</th>\n",
       "      <td>5259.444853</td>\n",
       "      <td>61146</td>\n",
       "      <td>65</td>\n",
       "      <td>7.000000</td>\n",
       "      <td>68</td>\n",
       "      <td>0.000000</td>\n",
       "      <td>6</td>\n",
       "      <td>273.018929</td>\n",
       "      <td>1</td>\n",
       "      <td>0</td>\n",
       "    </tr>\n",
       "    <tr>\n",
       "      <th>10907</th>\n",
       "      <td>23893.304100</td>\n",
       "      <td>39837</td>\n",
       "      <td>201</td>\n",
       "      <td>11.000000</td>\n",
       "      <td>63</td>\n",
       "      <td>0.000000</td>\n",
       "      <td>2</td>\n",
       "      <td>381.306996</td>\n",
       "      <td>2</td>\n",
       "      <td>0</td>\n",
       "    </tr>\n",
       "    <tr>\n",
       "      <th>10908</th>\n",
       "      <td>11971.977650</td>\n",
       "      <td>64195</td>\n",
       "      <td>158</td>\n",
       "      <td>0.000000</td>\n",
       "      <td>27</td>\n",
       "      <td>4.000000</td>\n",
       "      <td>6</td>\n",
       "      <td>618.288849</td>\n",
       "      <td>2</td>\n",
       "      <td>0</td>\n",
       "    </tr>\n",
       "    <tr>\n",
       "      <th>10909</th>\n",
       "      <td>6857.519928</td>\n",
       "      <td>0</td>\n",
       "      <td>101</td>\n",
       "      <td>31.000000</td>\n",
       "      <td>1</td>\n",
       "      <td>0.000000</td>\n",
       "      <td>3</td>\n",
       "      <td>1021.719397</td>\n",
       "      <td>1</td>\n",
       "      <td>0</td>\n",
       "    </tr>\n",
       "  </tbody>\n",
       "</table>\n",
       "<p>10910 rows × 10 columns</p>\n",
       "</div>"
      ],
      "text/plain": [
       "       customer_lifetime_value  income  monthly_premium_auto  \\\n",
       "0                  4809.216960   48029                    61   \n",
       "1                  2228.525238       0                    64   \n",
       "2                 14947.917300   22139                   100   \n",
       "3                 22332.439460   49078                    97   \n",
       "4                  9025.067525   23675                   117   \n",
       "...                        ...     ...                   ...   \n",
       "10905             15563.369440       0                   253   \n",
       "10906              5259.444853   61146                    65   \n",
       "10907             23893.304100   39837                   201   \n",
       "10908             11971.977650   64195                   158   \n",
       "10909              6857.519928       0                   101   \n",
       "\n",
       "       months_since_last_claim  months_since_policy_inception  \\\n",
       "0                     7.000000                             52   \n",
       "1                     3.000000                             26   \n",
       "2                    34.000000                             31   \n",
       "3                    10.000000                              3   \n",
       "4                    15.149071                             31   \n",
       "...                        ...                            ...   \n",
       "10905                15.149071                             40   \n",
       "10906                 7.000000                             68   \n",
       "10907                11.000000                             63   \n",
       "10908                 0.000000                             27   \n",
       "10909                31.000000                              1   \n",
       "\n",
       "       number_of_open_complaints  number_of_policies  total_claim_amount  \\\n",
       "0                       0.000000                   9          292.800000   \n",
       "1                       0.000000                   1          744.924331   \n",
       "2                       0.000000                   2          480.000000   \n",
       "3                       0.000000                   2          484.013411   \n",
       "4                       0.384256                   7          707.925645   \n",
       "...                          ...                 ...                 ...   \n",
       "10905                   0.384256                   7         1214.400000   \n",
       "10906                   0.000000                   6          273.018929   \n",
       "10907                   0.000000                   2          381.306996   \n",
       "10908                   4.000000                   6          618.288849   \n",
       "10909                   0.000000                   3         1021.719397   \n",
       "\n",
       "       month  responded  \n",
       "0          2          0  \n",
       "1          1          0  \n",
       "2          2          0  \n",
       "3          1          1  \n",
       "4          1          0  \n",
       "...      ...        ...  \n",
       "10905      1          0  \n",
       "10906      1          0  \n",
       "10907      2          0  \n",
       "10908      2          0  \n",
       "10909      1          0  \n",
       "\n",
       "[10910 rows x 10 columns]"
      ]
     },
     "execution_count": 144,
     "metadata": {},
     "output_type": "execute_result"
    }
   ],
   "source": [
    "numerical"
   ]
  },
  {
   "cell_type": "code",
   "execution_count": 146,
   "id": "4aac26d3",
   "metadata": {},
   "outputs": [],
   "source": [
    "from sklearn import linear_model\n",
    "from sklearn.metrics import mean_squared_error, r2_score\n",
    "\n",
    "y = marketing_customer_data['total_claim_amount']\n",
    "X = marketing_customer_data.drop(['total_claim_amount', 'customer'], axis=1)\n",
    "\n",
    "categorical = X.select_dtypes(object)\n",
    "numerical = X.select_dtypes('number')"
   ]
  },
  {
   "cell_type": "code",
   "execution_count": 147,
   "id": "714ca072",
   "metadata": {},
   "outputs": [
    {
     "data": {
      "text/plain": [
       "['state',\n",
       " 'customer_lifetime_value',\n",
       " 'response',\n",
       " 'coverage',\n",
       " 'education',\n",
       " 'effective_to_date',\n",
       " 'employmentstatus',\n",
       " 'gender',\n",
       " 'income',\n",
       " 'location_code',\n",
       " 'marital_status',\n",
       " 'monthly_premium_auto',\n",
       " 'months_since_last_claim',\n",
       " 'months_since_policy_inception',\n",
       " 'number_of_open_complaints',\n",
       " 'number_of_policies',\n",
       " 'policy_type',\n",
       " 'policy',\n",
       " 'renew_offer_type',\n",
       " 'sales_channel',\n",
       " 'vehicle_class',\n",
       " 'vehicle_size',\n",
       " 'vehicle_type',\n",
       " 'month',\n",
       " 'responded']"
      ]
     },
     "execution_count": 147,
     "metadata": {},
     "output_type": "execute_result"
    }
   ],
   "source": [
    "list(X.columns)"
   ]
  },
  {
   "cell_type": "markdown",
   "id": "bb5ff24c",
   "metadata": {},
   "source": [
    "## Normalize (numerical)."
   ]
  },
  {
   "cell_type": "code",
   "execution_count": 148,
   "id": "f8d31166",
   "metadata": {},
   "outputs": [
    {
     "data": {
      "text/plain": [
       "Index(['customer_lifetime_value', 'income', 'monthly_premium_auto',\n",
       "       'months_since_last_claim', 'months_since_policy_inception',\n",
       "       'number_of_open_complaints', 'number_of_policies', 'month',\n",
       "       'responded'],\n",
       "      dtype='object')"
      ]
     },
     "execution_count": 148,
     "metadata": {},
     "output_type": "execute_result"
    }
   ],
   "source": [
    "numerical.columns"
   ]
  },
  {
   "cell_type": "markdown",
   "id": "24eecd39",
   "metadata": {},
   "source": [
    "# ROUND 6"
   ]
  },
  {
   "cell_type": "markdown",
   "id": "0d3ef563",
   "metadata": {},
   "source": [
    "## One Hot/Label Encoding (categorical)."
   ]
  },
  {
   "cell_type": "markdown",
   "id": "ade13604",
   "metadata": {},
   "source": [
    "### Dropping the following columns because non essentials for creating the model"
   ]
  },
  {
   "cell_type": "code",
   "execution_count": 149,
   "id": "bdfe43cd",
   "metadata": {
    "scrolled": true
   },
   "outputs": [
    {
     "data": {
      "text/html": [
       "<div>\n",
       "<style scoped>\n",
       "    .dataframe tbody tr th:only-of-type {\n",
       "        vertical-align: middle;\n",
       "    }\n",
       "\n",
       "    .dataframe tbody tr th {\n",
       "        vertical-align: top;\n",
       "    }\n",
       "\n",
       "    .dataframe thead th {\n",
       "        text-align: right;\n",
       "    }\n",
       "</style>\n",
       "<table border=\"1\" class=\"dataframe\">\n",
       "  <thead>\n",
       "    <tr style=\"text-align: right;\">\n",
       "      <th></th>\n",
       "      <th>state</th>\n",
       "      <th>response</th>\n",
       "      <th>coverage</th>\n",
       "      <th>education</th>\n",
       "      <th>employmentstatus</th>\n",
       "      <th>gender</th>\n",
       "      <th>location_code</th>\n",
       "      <th>marital_status</th>\n",
       "      <th>policy_type</th>\n",
       "      <th>policy</th>\n",
       "      <th>renew_offer_type</th>\n",
       "      <th>sales_channel</th>\n",
       "      <th>vehicle_class</th>\n",
       "      <th>vehicle_size</th>\n",
       "      <th>vehicle_type</th>\n",
       "    </tr>\n",
       "  </thead>\n",
       "  <tbody>\n",
       "    <tr>\n",
       "      <th>0</th>\n",
       "      <td>Arizona</td>\n",
       "      <td>No</td>\n",
       "      <td>Basic</td>\n",
       "      <td>College</td>\n",
       "      <td>Employed</td>\n",
       "      <td>M</td>\n",
       "      <td>Suburban</td>\n",
       "      <td>Married</td>\n",
       "      <td>Corporate Auto</td>\n",
       "      <td>Corporate L3</td>\n",
       "      <td>Offer3</td>\n",
       "      <td>Agent</td>\n",
       "      <td>Four-Door Car</td>\n",
       "      <td>Medsize</td>\n",
       "      <td>A</td>\n",
       "    </tr>\n",
       "    <tr>\n",
       "      <th>1</th>\n",
       "      <td>California</td>\n",
       "      <td>No</td>\n",
       "      <td>Basic</td>\n",
       "      <td>College</td>\n",
       "      <td>Unemployed</td>\n",
       "      <td>F</td>\n",
       "      <td>Suburban</td>\n",
       "      <td>Single</td>\n",
       "      <td>Personal Auto</td>\n",
       "      <td>Personal L3</td>\n",
       "      <td>Offer4</td>\n",
       "      <td>Call Center</td>\n",
       "      <td>Four-Door Car</td>\n",
       "      <td>Medsize</td>\n",
       "      <td>A</td>\n",
       "    </tr>\n",
       "    <tr>\n",
       "      <th>2</th>\n",
       "      <td>Washington</td>\n",
       "      <td>No</td>\n",
       "      <td>Basic</td>\n",
       "      <td>Bachelor</td>\n",
       "      <td>Employed</td>\n",
       "      <td>M</td>\n",
       "      <td>Suburban</td>\n",
       "      <td>Single</td>\n",
       "      <td>Personal Auto</td>\n",
       "      <td>Personal L3</td>\n",
       "      <td>Offer3</td>\n",
       "      <td>Call Center</td>\n",
       "      <td>SUV</td>\n",
       "      <td>Medsize</td>\n",
       "      <td>A</td>\n",
       "    </tr>\n",
       "    <tr>\n",
       "      <th>3</th>\n",
       "      <td>Oregon</td>\n",
       "      <td>Yes</td>\n",
       "      <td>Extended</td>\n",
       "      <td>College</td>\n",
       "      <td>Employed</td>\n",
       "      <td>M</td>\n",
       "      <td>Suburban</td>\n",
       "      <td>Single</td>\n",
       "      <td>Corporate Auto</td>\n",
       "      <td>Corporate L3</td>\n",
       "      <td>Offer2</td>\n",
       "      <td>Branch</td>\n",
       "      <td>Four-Door Car</td>\n",
       "      <td>Medsize</td>\n",
       "      <td>A</td>\n",
       "    </tr>\n",
       "    <tr>\n",
       "      <th>4</th>\n",
       "      <td>Oregon</td>\n",
       "      <td>No</td>\n",
       "      <td>Premium</td>\n",
       "      <td>Bachelor</td>\n",
       "      <td>Medical Leave</td>\n",
       "      <td>F</td>\n",
       "      <td>Suburban</td>\n",
       "      <td>Married</td>\n",
       "      <td>Personal Auto</td>\n",
       "      <td>Personal L2</td>\n",
       "      <td>Offer1</td>\n",
       "      <td>Branch</td>\n",
       "      <td>Four-Door Car</td>\n",
       "      <td>Medsize</td>\n",
       "      <td>A</td>\n",
       "    </tr>\n",
       "    <tr>\n",
       "      <th>...</th>\n",
       "      <td>...</td>\n",
       "      <td>...</td>\n",
       "      <td>...</td>\n",
       "      <td>...</td>\n",
       "      <td>...</td>\n",
       "      <td>...</td>\n",
       "      <td>...</td>\n",
       "      <td>...</td>\n",
       "      <td>...</td>\n",
       "      <td>...</td>\n",
       "      <td>...</td>\n",
       "      <td>...</td>\n",
       "      <td>...</td>\n",
       "      <td>...</td>\n",
       "      <td>...</td>\n",
       "    </tr>\n",
       "    <tr>\n",
       "      <th>10905</th>\n",
       "      <td>Nevada</td>\n",
       "      <td>No</td>\n",
       "      <td>Premium</td>\n",
       "      <td>Bachelor</td>\n",
       "      <td>Unemployed</td>\n",
       "      <td>F</td>\n",
       "      <td>Suburban</td>\n",
       "      <td>Married</td>\n",
       "      <td>Personal Auto</td>\n",
       "      <td>Personal L1</td>\n",
       "      <td>Offer3</td>\n",
       "      <td>Web</td>\n",
       "      <td>Luxury Car</td>\n",
       "      <td>Medsize</td>\n",
       "      <td>A</td>\n",
       "    </tr>\n",
       "    <tr>\n",
       "      <th>10906</th>\n",
       "      <td>Oregon</td>\n",
       "      <td>No</td>\n",
       "      <td>Basic</td>\n",
       "      <td>College</td>\n",
       "      <td>Employed</td>\n",
       "      <td>F</td>\n",
       "      <td>Urban</td>\n",
       "      <td>Married</td>\n",
       "      <td>Personal Auto</td>\n",
       "      <td>Personal L3</td>\n",
       "      <td>Offer2</td>\n",
       "      <td>Branch</td>\n",
       "      <td>Four-Door Car</td>\n",
       "      <td>Medsize</td>\n",
       "      <td>A</td>\n",
       "    </tr>\n",
       "    <tr>\n",
       "      <th>10907</th>\n",
       "      <td>Arizona</td>\n",
       "      <td>No</td>\n",
       "      <td>Extended</td>\n",
       "      <td>Bachelor</td>\n",
       "      <td>Employed</td>\n",
       "      <td>F</td>\n",
       "      <td>Rural</td>\n",
       "      <td>Married</td>\n",
       "      <td>Corporate Auto</td>\n",
       "      <td>Corporate L3</td>\n",
       "      <td>Offer1</td>\n",
       "      <td>Web</td>\n",
       "      <td>Luxury SUV</td>\n",
       "      <td>Medsize</td>\n",
       "      <td>A</td>\n",
       "    </tr>\n",
       "    <tr>\n",
       "      <th>10908</th>\n",
       "      <td>California</td>\n",
       "      <td>No</td>\n",
       "      <td>Premium</td>\n",
       "      <td>College</td>\n",
       "      <td>Employed</td>\n",
       "      <td>F</td>\n",
       "      <td>Urban</td>\n",
       "      <td>Divorced</td>\n",
       "      <td>Personal Auto</td>\n",
       "      <td>Personal L1</td>\n",
       "      <td>Offer1</td>\n",
       "      <td>Branch</td>\n",
       "      <td>SUV</td>\n",
       "      <td>Medsize</td>\n",
       "      <td>A</td>\n",
       "    </tr>\n",
       "    <tr>\n",
       "      <th>10909</th>\n",
       "      <td>California</td>\n",
       "      <td>No</td>\n",
       "      <td>Basic</td>\n",
       "      <td>Bachelor</td>\n",
       "      <td>Unemployed</td>\n",
       "      <td>M</td>\n",
       "      <td>Suburban</td>\n",
       "      <td>Single</td>\n",
       "      <td>Personal Auto</td>\n",
       "      <td>Personal L1</td>\n",
       "      <td>Offer4</td>\n",
       "      <td>Web</td>\n",
       "      <td>SUV</td>\n",
       "      <td>Medsize</td>\n",
       "      <td>A</td>\n",
       "    </tr>\n",
       "  </tbody>\n",
       "</table>\n",
       "<p>10910 rows × 15 columns</p>\n",
       "</div>"
      ],
      "text/plain": [
       "            state response  coverage education employmentstatus gender  \\\n",
       "0         Arizona       No     Basic   College         Employed      M   \n",
       "1      California       No     Basic   College       Unemployed      F   \n",
       "2      Washington       No     Basic  Bachelor         Employed      M   \n",
       "3          Oregon      Yes  Extended   College         Employed      M   \n",
       "4          Oregon       No   Premium  Bachelor    Medical Leave      F   \n",
       "...           ...      ...       ...       ...              ...    ...   \n",
       "10905      Nevada       No   Premium  Bachelor       Unemployed      F   \n",
       "10906      Oregon       No     Basic   College         Employed      F   \n",
       "10907     Arizona       No  Extended  Bachelor         Employed      F   \n",
       "10908  California       No   Premium   College         Employed      F   \n",
       "10909  California       No     Basic  Bachelor       Unemployed      M   \n",
       "\n",
       "      location_code marital_status     policy_type        policy  \\\n",
       "0          Suburban        Married  Corporate Auto  Corporate L3   \n",
       "1          Suburban         Single   Personal Auto   Personal L3   \n",
       "2          Suburban         Single   Personal Auto   Personal L3   \n",
       "3          Suburban         Single  Corporate Auto  Corporate L3   \n",
       "4          Suburban        Married   Personal Auto   Personal L2   \n",
       "...             ...            ...             ...           ...   \n",
       "10905      Suburban        Married   Personal Auto   Personal L1   \n",
       "10906         Urban        Married   Personal Auto   Personal L3   \n",
       "10907         Rural        Married  Corporate Auto  Corporate L3   \n",
       "10908         Urban       Divorced   Personal Auto   Personal L1   \n",
       "10909      Suburban         Single   Personal Auto   Personal L1   \n",
       "\n",
       "      renew_offer_type sales_channel  vehicle_class vehicle_size vehicle_type  \n",
       "0               Offer3         Agent  Four-Door Car      Medsize            A  \n",
       "1               Offer4   Call Center  Four-Door Car      Medsize            A  \n",
       "2               Offer3   Call Center            SUV      Medsize            A  \n",
       "3               Offer2        Branch  Four-Door Car      Medsize            A  \n",
       "4               Offer1        Branch  Four-Door Car      Medsize            A  \n",
       "...                ...           ...            ...          ...          ...  \n",
       "10905           Offer3           Web     Luxury Car      Medsize            A  \n",
       "10906           Offer2        Branch  Four-Door Car      Medsize            A  \n",
       "10907           Offer1           Web     Luxury SUV      Medsize            A  \n",
       "10908           Offer1        Branch            SUV      Medsize            A  \n",
       "10909           Offer4           Web            SUV      Medsize            A  \n",
       "\n",
       "[10910 rows x 15 columns]"
      ]
     },
     "execution_count": 149,
     "metadata": {},
     "output_type": "execute_result"
    }
   ],
   "source": [
    "categorical"
   ]
  },
  {
   "cell_type": "code",
   "execution_count": 150,
   "id": "3256554d",
   "metadata": {},
   "outputs": [
    {
     "name": "stdout",
     "output_type": "stream",
     "text": [
      "[array(['Arizona', 'California', 'Nevada', 'Oregon', 'Washington'],\n",
      "      dtype=object), array(['No', 'Yes'], dtype=object), array(['Basic', 'Extended', 'Premium'], dtype=object), array(['Bachelor', 'College', 'Doctor', 'High School or Below', 'Master'],\n",
      "      dtype=object), array(['Disabled', 'Employed', 'Medical Leave', 'Retired', 'Unemployed'],\n",
      "      dtype=object), array(['F', 'M'], dtype=object), array(['Rural', 'Suburban', 'Urban'], dtype=object), array(['Divorced', 'Married', 'Single'], dtype=object), array(['Corporate Auto', 'Personal Auto', 'Special Auto'], dtype=object), array(['Corporate L1', 'Corporate L2', 'Corporate L3', 'Personal L1',\n",
      "       'Personal L2', 'Personal L3', 'Special L1', 'Special L2',\n",
      "       'Special L3'], dtype=object), array(['Offer1', 'Offer2', 'Offer3', 'Offer4'], dtype=object), array(['Agent', 'Branch', 'Call Center', 'Web'], dtype=object), array(['Four-Door Car', 'Luxury Car', 'Luxury SUV', 'SUV', 'Sports Car',\n",
      "       'Two-Door Car'], dtype=object), array(['Large', 'Medsize', 'Small'], dtype=object), array(['A'], dtype=object)]\n"
     ]
    }
   ],
   "source": [
    "# JUST DO ONE HOT LABEL ENCODING FOR NOW - Later split it\n",
    "from sklearn.preprocessing import OneHotEncoder\n",
    "\n",
    "# Step 1. \n",
    "#We need to train the encoder with a command to create dummy variables\n",
    "encoder = OneHotEncoder(drop='first').fit(categorical)\n",
    "\n",
    "#2. Show the new categories\n",
    "print(encoder.categories_)"
   ]
  },
  {
   "cell_type": "code",
   "execution_count": 151,
   "id": "aed3b22c",
   "metadata": {},
   "outputs": [
    {
     "name": "stdout",
     "output_type": "stream",
     "text": [
      "[[0. 0. 0. ... 0. 1. 0.]\n",
      " [1. 0. 0. ... 0. 1. 0.]\n",
      " [0. 0. 0. ... 0. 1. 0.]\n",
      " ...\n",
      " [0. 0. 0. ... 0. 1. 0.]\n",
      " [1. 0. 0. ... 0. 1. 0.]\n",
      " [1. 0. 0. ... 0. 1. 0.]]\n"
     ]
    },
    {
     "name": "stderr",
     "output_type": "stream",
     "text": [
      "/opt/anaconda3/lib/python3.9/site-packages/sklearn/utils/deprecation.py:87: FutureWarning: Function get_feature_names is deprecated; get_feature_names is deprecated in 1.0 and will be removed in 1.2. Please use get_feature_names_out instead.\n",
      "  warnings.warn(msg, category=FutureWarning)\n"
     ]
    },
    {
     "data": {
      "text/html": [
       "<div>\n",
       "<style scoped>\n",
       "    .dataframe tbody tr th:only-of-type {\n",
       "        vertical-align: middle;\n",
       "    }\n",
       "\n",
       "    .dataframe tbody tr th {\n",
       "        vertical-align: top;\n",
       "    }\n",
       "\n",
       "    .dataframe thead th {\n",
       "        text-align: right;\n",
       "    }\n",
       "</style>\n",
       "<table border=\"1\" class=\"dataframe\">\n",
       "  <thead>\n",
       "    <tr style=\"text-align: right;\">\n",
       "      <th></th>\n",
       "      <th>state_California</th>\n",
       "      <th>state_Nevada</th>\n",
       "      <th>state_Oregon</th>\n",
       "      <th>state_Washington</th>\n",
       "      <th>response_Yes</th>\n",
       "      <th>coverage_Extended</th>\n",
       "      <th>coverage_Premium</th>\n",
       "      <th>education_College</th>\n",
       "      <th>education_Doctor</th>\n",
       "      <th>education_High School or Below</th>\n",
       "      <th>...</th>\n",
       "      <th>sales_channel_Branch</th>\n",
       "      <th>sales_channel_Call Center</th>\n",
       "      <th>sales_channel_Web</th>\n",
       "      <th>vehicle_class_Luxury Car</th>\n",
       "      <th>vehicle_class_Luxury SUV</th>\n",
       "      <th>vehicle_class_SUV</th>\n",
       "      <th>vehicle_class_Sports Car</th>\n",
       "      <th>vehicle_class_Two-Door Car</th>\n",
       "      <th>vehicle_size_Medsize</th>\n",
       "      <th>vehicle_size_Small</th>\n",
       "    </tr>\n",
       "  </thead>\n",
       "  <tbody>\n",
       "    <tr>\n",
       "      <th>0</th>\n",
       "      <td>0.0</td>\n",
       "      <td>0.0</td>\n",
       "      <td>0.0</td>\n",
       "      <td>0.0</td>\n",
       "      <td>0.0</td>\n",
       "      <td>0.0</td>\n",
       "      <td>0.0</td>\n",
       "      <td>1.0</td>\n",
       "      <td>0.0</td>\n",
       "      <td>0.0</td>\n",
       "      <td>...</td>\n",
       "      <td>0.0</td>\n",
       "      <td>0.0</td>\n",
       "      <td>0.0</td>\n",
       "      <td>0.0</td>\n",
       "      <td>0.0</td>\n",
       "      <td>0.0</td>\n",
       "      <td>0.0</td>\n",
       "      <td>0.0</td>\n",
       "      <td>1.0</td>\n",
       "      <td>0.0</td>\n",
       "    </tr>\n",
       "    <tr>\n",
       "      <th>1</th>\n",
       "      <td>1.0</td>\n",
       "      <td>0.0</td>\n",
       "      <td>0.0</td>\n",
       "      <td>0.0</td>\n",
       "      <td>0.0</td>\n",
       "      <td>0.0</td>\n",
       "      <td>0.0</td>\n",
       "      <td>1.0</td>\n",
       "      <td>0.0</td>\n",
       "      <td>0.0</td>\n",
       "      <td>...</td>\n",
       "      <td>0.0</td>\n",
       "      <td>1.0</td>\n",
       "      <td>0.0</td>\n",
       "      <td>0.0</td>\n",
       "      <td>0.0</td>\n",
       "      <td>0.0</td>\n",
       "      <td>0.0</td>\n",
       "      <td>0.0</td>\n",
       "      <td>1.0</td>\n",
       "      <td>0.0</td>\n",
       "    </tr>\n",
       "  </tbody>\n",
       "</table>\n",
       "<p>2 rows × 43 columns</p>\n",
       "</div>"
      ],
      "text/plain": [
       "   state_California  state_Nevada  state_Oregon  state_Washington  \\\n",
       "0               0.0           0.0           0.0               0.0   \n",
       "1               1.0           0.0           0.0               0.0   \n",
       "\n",
       "   response_Yes  coverage_Extended  coverage_Premium  education_College  \\\n",
       "0           0.0                0.0               0.0                1.0   \n",
       "1           0.0                0.0               0.0                1.0   \n",
       "\n",
       "   education_Doctor  education_High School or Below  ...  \\\n",
       "0               0.0                             0.0  ...   \n",
       "1               0.0                             0.0  ...   \n",
       "\n",
       "   sales_channel_Branch  sales_channel_Call Center  sales_channel_Web  \\\n",
       "0                   0.0                        0.0                0.0   \n",
       "1                   0.0                        1.0                0.0   \n",
       "\n",
       "   vehicle_class_Luxury Car  vehicle_class_Luxury SUV  vehicle_class_SUV  \\\n",
       "0                       0.0                       0.0                0.0   \n",
       "1                       0.0                       0.0                0.0   \n",
       "\n",
       "   vehicle_class_Sports Car  vehicle_class_Two-Door Car  vehicle_size_Medsize  \\\n",
       "0                       0.0                         0.0                   1.0   \n",
       "1                       0.0                         0.0                   1.0   \n",
       "\n",
       "   vehicle_size_Small  \n",
       "0                 0.0  \n",
       "1                 0.0  \n",
       "\n",
       "[2 rows x 43 columns]"
      ]
     },
     "execution_count": 151,
     "metadata": {},
     "output_type": "execute_result"
    }
   ],
   "source": [
    "# 3. Change the variable into an array\n",
    "encoded = encoder.transform(categorical).toarray()\n",
    "print(encoded)\n",
    "\n",
    "# 4. Create cols\n",
    "# cols = [colname for colname in row, encoder.c]\n",
    "cols=[]\n",
    "for row in encoder.categories_:\n",
    "    for colname in row:\n",
    "        cols.append(colname)\n",
    "cols\n",
    "\n",
    "# 5. Add names to the features again\n",
    "cols = encoder.get_feature_names(input_features=categorical.columns)\n",
    "cols\n",
    "\n",
    "# 6. Let's see if it worked\n",
    "onehot_encoded = pd.DataFrame(encoded, columns=cols)\n",
    "onehot_encoded.head(2)"
   ]
  },
  {
   "cell_type": "markdown",
   "id": "eb1b40bf",
   "metadata": {},
   "source": [
    "## Normalize numerical values"
   ]
  },
  {
   "cell_type": "code",
   "execution_count": 152,
   "id": "4461360c",
   "metadata": {},
   "outputs": [
    {
     "name": "stdout",
     "output_type": "stream",
     "text": [
      "(10910, 9)\n"
     ]
    }
   ],
   "source": [
    "# Exercise 2 - Normalize the data\n",
    "from sklearn.preprocessing import MinMaxScaler\n",
    "\n",
    "# 1. Create a function \n",
    "transformer = MinMaxScaler().fit(numerical) #it will squize in the numbers between the min and max and uniformlly seperate it\n",
    "# 2. Output are the scaled values\n",
    "X_normalized = transformer.transform(numerical) #It is a dataframe but will be turned into an array\n",
    "print(X_normalized.shape)\n",
    "\n",
    "X_normalized\n",
    "\n",
    "#Rename it because I change the dataset from an array into a Dataframe\n",
    "normalized_data = pd.DataFrame(X_normalized, columns=numerical.columns) #correlation matrix for normlized features"
   ]
  },
  {
   "cell_type": "markdown",
   "id": "8cc8d424",
   "metadata": {},
   "source": [
    "## Concat DataFrames"
   ]
  },
  {
   "cell_type": "code",
   "execution_count": 153,
   "id": "de2dad02",
   "metadata": {},
   "outputs": [],
   "source": [
    "X = pd.concat([normalized_data, onehot_encoded], axis=1)"
   ]
  },
  {
   "cell_type": "markdown",
   "id": "38130287",
   "metadata": {},
   "source": [
    "## Linear Regression"
   ]
  },
  {
   "cell_type": "code",
   "execution_count": 154,
   "id": "15da8fe3",
   "metadata": {},
   "outputs": [],
   "source": [
    "from sklearn.model_selection import train_test_split\n",
    "\n",
    "X_train, X_test, y_train, y_test = train_test_split(X, y, test_size=0.2, random_state=42)"
   ]
  },
  {
   "cell_type": "code",
   "execution_count": 155,
   "id": "e7a89a99",
   "metadata": {},
   "outputs": [
    {
     "data": {
      "text/plain": [
       "LinearRegression()"
      ]
     },
     "execution_count": 155,
     "metadata": {},
     "output_type": "execute_result"
    }
   ],
   "source": [
    "lm = linear_model.LinearRegression()\n",
    "lm.fit(X_train,y_train)"
   ]
  },
  {
   "cell_type": "code",
   "execution_count": 156,
   "id": "12d47baa",
   "metadata": {},
   "outputs": [
    {
     "data": {
      "text/plain": [
       "0.7709511670259861"
      ]
     },
     "execution_count": 156,
     "metadata": {},
     "output_type": "execute_result"
    }
   ],
   "source": [
    "from sklearn.metrics import r2_score\n",
    "\n",
    "predictions = lm.predict(X_train)\n",
    "r2_score(y_train, predictions)"
   ]
  },
  {
   "cell_type": "markdown",
   "id": "549e7673",
   "metadata": {},
   "source": [
    "## Apply linear regression."
   ]
  },
  {
   "cell_type": "code",
   "execution_count": 157,
   "id": "67108022",
   "metadata": {},
   "outputs": [
    {
     "data": {
      "text/plain": [
       "0.769025438337113"
      ]
     },
     "execution_count": 157,
     "metadata": {},
     "output_type": "execute_result"
    }
   ],
   "source": [
    "predictions_test = lm.predict(X_test)\n",
    "r2_score(y_test, predictions_test)"
   ]
  },
  {
   "cell_type": "markdown",
   "id": "03221601",
   "metadata": {},
   "source": [
    "## Model Validation"
   ]
  },
  {
   "cell_type": "markdown",
   "id": "288867e6",
   "metadata": {},
   "source": [
    "### R2"
   ]
  },
  {
   "cell_type": "code",
   "execution_count": 158,
   "id": "c8629021",
   "metadata": {},
   "outputs": [
    {
     "data": {
      "text/plain": [
       "0.769025438337113"
      ]
     },
     "execution_count": 158,
     "metadata": {},
     "output_type": "execute_result"
    }
   ],
   "source": [
    "from sklearn.metrics import mean_absolute_error, r2_score\n",
    "\n",
    "r2 = r2_score(y_test, predictions_test)\n",
    "r2"
   ]
  },
  {
   "cell_type": "code",
   "execution_count": 162,
   "id": "0086efcd",
   "metadata": {},
   "outputs": [
    {
     "name": "stdout",
     "output_type": "stream",
     "text": [
      "train R2: 0.7709511670259861 -- test R2: 0.769025438337113\n"
     ]
    }
   ],
   "source": [
    "print ('train R2: {} -- test R2: {}'.format(lm.score(X_train, y_train),\n",
    "                                            lm.score(X_test, y_test)))"
   ]
  },
  {
   "cell_type": "markdown",
   "id": "d018e5da",
   "metadata": {},
   "source": [
    "### MSE"
   ]
  },
  {
   "cell_type": "code",
   "execution_count": 159,
   "id": "668a74e3",
   "metadata": {},
   "outputs": [
    {
     "data": {
      "text/plain": [
       "18649.573236458364"
      ]
     },
     "execution_count": 159,
     "metadata": {},
     "output_type": "execute_result"
    }
   ],
   "source": [
    "from sklearn.metrics import mean_squared_error\n",
    "\n",
    "mse=mean_squared_error(y_test,predictions_test)\n",
    "mse"
   ]
  },
  {
   "cell_type": "code",
   "execution_count": 163,
   "id": "6be6d9a2",
   "metadata": {},
   "outputs": [
    {
     "name": "stdout",
     "output_type": "stream",
     "text": [
      "train MSE: 19816.41939590952 -- test MSE: 18649.573236458364\n"
     ]
    }
   ],
   "source": [
    "train_mse=mean_squared_error(lm.predict(X_train), y_train)\n",
    "test_mse=mean_squared_error(lm.predict(X_test), y_test)\n",
    "\n",
    "print ('train MSE: {} -- test MSE: {}'.format(train_mse, test_mse))"
   ]
  },
  {
   "cell_type": "markdown",
   "id": "5c091158",
   "metadata": {},
   "source": [
    "### RMSE"
   ]
  },
  {
   "cell_type": "code",
   "execution_count": 160,
   "id": "b3c4e3f6",
   "metadata": {},
   "outputs": [
    {
     "name": "stdout",
     "output_type": "stream",
     "text": [
      "136.5634403361982\n"
     ]
    }
   ],
   "source": [
    "import math\n",
    "\n",
    "rmse = math.sqrt(mse)\n",
    "print(rmse)"
   ]
  },
  {
   "cell_type": "code",
   "execution_count": 164,
   "id": "76cbfa35",
   "metadata": {},
   "outputs": [
    {
     "name": "stdout",
     "output_type": "stream",
     "text": [
      "train RMSE: 140.7708044869728 -- test RMSE: 136.5634403361982\n"
     ]
    }
   ],
   "source": [
    "print ('train RMSE: {} -- test RMSE: {}'.format(train_mse**.5, test_mse**.5))"
   ]
  },
  {
   "cell_type": "markdown",
   "id": "dfe9e486",
   "metadata": {},
   "source": [
    "### MAE"
   ]
  },
  {
   "cell_type": "code",
   "execution_count": 161,
   "id": "3f5e36f7",
   "metadata": {},
   "outputs": [
    {
     "name": "stdout",
     "output_type": "stream",
     "text": [
      "95.26451651468794\n"
     ]
    }
   ],
   "source": [
    "mae = mean_absolute_error(y_test, predictions_test)\n",
    "print(mae)"
   ]
  },
  {
   "cell_type": "code",
   "execution_count": 165,
   "id": "551532e6",
   "metadata": {},
   "outputs": [
    {
     "name": "stdout",
     "output_type": "stream",
     "text": [
      "train MAE: 19816.41939590952 -- test MAE: 18649.573236458364\n"
     ]
    }
   ],
   "source": [
    "train_mae=mean_absolute_error(lm.predict(X_train), y_train)\n",
    "test_mae=mean_absolute_error(lm.predict(X_test), y_test)\n",
    "\n",
    "print ('train MAE: {} -- test MAE: {}'.format(train_mse, test_mse))"
   ]
  },
  {
   "cell_type": "markdown",
   "id": "f29c7788",
   "metadata": {},
   "source": [
    "# ROUND 7"
   ]
  },
  {
   "cell_type": "code",
   "execution_count": null,
   "id": "1db39008",
   "metadata": {},
   "outputs": [],
   "source": []
  }
 ],
 "metadata": {
  "kernelspec": {
   "display_name": "base",
   "language": "python",
   "name": "python3"
  },
  "language_info": {
   "codemirror_mode": {
    "name": "ipython",
    "version": 3
   },
   "file_extension": ".py",
   "mimetype": "text/x-python",
   "name": "python",
   "nbconvert_exporter": "python",
   "pygments_lexer": "ipython3",
   "version": "3.9.13 (main, Aug 25 2022, 18:29:29) \n[Clang 12.0.0 ]"
  },
  "vscode": {
   "interpreter": {
    "hash": "40d3a090f54c6569ab1632332b64b2c03c39dcf918b08424e98f38b5ae0af88f"
   }
  }
 },
 "nbformat": 4,
 "nbformat_minor": 5
}
