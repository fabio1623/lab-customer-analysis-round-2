{
 "cells": [
  {
   "cell_type": "markdown",
   "id": "c61604e7",
   "metadata": {},
   "source": [
    "Show the dataframe shape."
   ]
  },
  {
   "cell_type": "code",
   "execution_count": 12,
   "id": "db6497ab",
   "metadata": {},
   "outputs": [
    {
     "data": {
      "text/plain": [
       "(10910, 26)"
      ]
     },
     "execution_count": 12,
     "metadata": {},
     "output_type": "execute_result"
    }
   ],
   "source": [
    "import pandas as pd\n",
    "\n",
    "marketing_customer_data = pd.read_csv('csv_files/marketing_customer_analysis.csv')\n",
    "marketing_customer_data.shape"
   ]
  },
  {
   "cell_type": "markdown",
   "id": "b568014b",
   "metadata": {},
   "source": [
    "Standardize header names."
   ]
  },
  {
   "cell_type": "code",
   "execution_count": 17,
   "id": "b4a60222",
   "metadata": {},
   "outputs": [
    {
     "name": "stdout",
     "output_type": "stream",
     "text": [
      "['Unnamed: 0', 'Customer', 'State', 'Customer Lifetime Value', 'Response', 'Coverage', 'Education', 'Effective To Date', 'Employment Status', 'Gender', 'Income', 'Location Code', 'Marital Status', 'Monthly Premium Auto', 'Months Since Last Claim', 'Months Since Policy Inception', 'Number of Open Complaints', 'Number of Policies', 'Policy Type', 'Policy', 'Renew Offer Type', 'Sales Channel', 'Total Claim Amount', 'Vehicle Class', 'Vehicle Size', 'Vehicle Type']\n",
      "['Unnamed: 0', 'Customer', 'State', 'Customer Lifetime Value', 'Response', 'Coverage', 'Education', 'Effective To Date', 'Employment Status', 'Gender', 'Income', 'Location Code', 'Marital Status', 'Monthly Premium Auto', 'Months Since Last Claim', 'Months Since Policy Inception', 'Number of Open Complaints', 'Number of Policies', 'Policy Type', 'Policy', 'Renew Offer Type', 'Sales Channel', 'Total Claim Amount', 'Vehicle Class', 'Vehicle Size', 'Vehicle Type']\n"
     ]
    }
   ],
   "source": [
    "print(list(marketing_customer_data.columns))\n",
    "columns_definition = { 'EmploymentStatus':'Employment Status' }\n",
    "marketing_customer_data = marketing_customer_data.rename(columns = columns_definition)\n",
    "print(list(marketing_customer_data.columns))"
   ]
  },
  {
   "cell_type": "markdown",
   "id": "0213dec3",
   "metadata": {},
   "source": [
    "Which columns are numerical?"
   ]
  },
  {
   "cell_type": "code",
   "execution_count": 19,
   "id": "66f59967",
   "metadata": {},
   "outputs": [
    {
     "data": {
      "text/plain": [
       "['Unnamed: 0',\n",
       " 'Customer Lifetime Value',\n",
       " 'Income',\n",
       " 'Monthly Premium Auto',\n",
       " 'Months Since Last Claim',\n",
       " 'Months Since Policy Inception',\n",
       " 'Number of Open Complaints',\n",
       " 'Number of Policies',\n",
       " 'Total Claim Amount']"
      ]
     },
     "execution_count": 19,
     "metadata": {},
     "output_type": "execute_result"
    }
   ],
   "source": [
    "numerical_columns = marketing_customer_data._get_numeric_data().columns\n",
    "list(numerical_columns)"
   ]
  },
  {
   "cell_type": "markdown",
   "id": "ef76901c",
   "metadata": {},
   "source": [
    "Which columns are categorical?"
   ]
  },
  {
   "cell_type": "code",
   "execution_count": 22,
   "id": "d5454e6a",
   "metadata": {},
   "outputs": [
    {
     "data": {
      "text/plain": [
       "['Coverage',\n",
       " 'Effective To Date',\n",
       " 'Renew Offer Type',\n",
       " 'Vehicle Class',\n",
       " 'Location Code',\n",
       " 'Employment Status',\n",
       " 'State',\n",
       " 'Response',\n",
       " 'Gender',\n",
       " 'Policy',\n",
       " 'Sales Channel',\n",
       " 'Vehicle Type',\n",
       " 'Education',\n",
       " 'Vehicle Size',\n",
       " 'Marital Status',\n",
       " 'Policy Type',\n",
       " 'Customer']"
      ]
     },
     "execution_count": 22,
     "metadata": {},
     "output_type": "execute_result"
    }
   ],
   "source": [
    "list(set(marketing_customer_data.columns) - set(numerical_columns))"
   ]
  },
  {
   "cell_type": "markdown",
   "id": "d495df11",
   "metadata": {},
   "source": [
    "Check and deal with NaN values."
   ]
  },
  {
   "cell_type": "code",
   "execution_count": null,
   "id": "056babb4",
   "metadata": {},
   "outputs": [],
   "source": []
  },
  {
   "cell_type": "markdown",
   "id": "7772d5dc",
   "metadata": {},
   "source": [
    "Datetime format - Extract the months from the dataset and store in a separate column. Then filter the data to show only the information for the first quarter , ie. January, February and March. Hint: If data from March does not exist, consider only January and February."
   ]
  },
  {
   "cell_type": "code",
   "execution_count": null,
   "id": "bb0caeea",
   "metadata": {},
   "outputs": [],
   "source": []
  },
  {
   "cell_type": "markdown",
   "id": "8e34ca79",
   "metadata": {},
   "source": [
    "BONUS: Put all the previously mentioned data transformations into a function."
   ]
  },
  {
   "cell_type": "code",
   "execution_count": null,
   "id": "0d4a1b1e",
   "metadata": {},
   "outputs": [],
   "source": []
  }
 ],
 "metadata": {
  "kernelspec": {
   "display_name": "Python 3 (ipykernel)",
   "language": "python",
   "name": "python3"
  },
  "language_info": {
   "codemirror_mode": {
    "name": "ipython",
    "version": 3
   },
   "file_extension": ".py",
   "mimetype": "text/x-python",
   "name": "python",
   "nbconvert_exporter": "python",
   "pygments_lexer": "ipython3",
   "version": "3.9.13"
  }
 },
 "nbformat": 4,
 "nbformat_minor": 5
}
